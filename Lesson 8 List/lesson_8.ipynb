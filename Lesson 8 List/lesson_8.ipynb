{
 "cells": [
  {
   "cell_type": "markdown",
   "id": "de302c84",
   "metadata": {},
   "source": [
    "# <span style=\"color:yellow\">**Lesson-8: List**</span>"
   ]
  },
  {
   "cell_type": "markdown",
   "id": "b2d94adf",
   "metadata": {},
   "source": [
    "## List Data Structure:\n",
    "- List is a sequence data structure in Python\n",
    "- It is an ordered data strucutre where each of it's element has an index value\n",
    "- List is mutable: it can increase,decrease it size on demand\n",
    "- Operation allowed on list: insertion,deletion,update\n",
    "- List is unhashable data-structure\n",
    "- List can store data of heterogenous type"
   ]
  },
  {
   "cell_type": "markdown",
   "id": "3a0164f0",
   "metadata": {},
   "source": [
    "## How to define a list\n",
    "\n",
    "1. Method-1:empty list\n",
    "```python\n",
    "l1=[]\n",
    "l2=list(iterator) # list constructor\n",
    "```\n",
    "2. Method-2:non-empty list\n",
    "``` python\n",
    "l3=[1,3.34,\"Hello\",(1,2)]\n",
    "l3=list((1,2,3,4))\n",
    "```\n",
    "3. List comprehension\n",
    "```python\n",
    "# l=[expression for x in iterator if condn] \n",
    "l4=[x**2 for x in range(5)]\n",
    "```"
   ]
  },
  {
   "cell_type": "code",
   "execution_count": 15,
   "id": "8e5756e9",
   "metadata": {},
   "outputs": [
    {
     "name": "stdout",
     "output_type": "stream",
     "text": [
      "[]\n",
      "[]\n",
      "[1, 24.24, 'hallo', (1, 3)]\n",
      "['h', 'e', 'l', 'l', 'o']\n",
      "[0, 1, 4, 9]\n"
     ]
    }
   ],
   "source": [
    "l1=[]\n",
    "l2=list()\n",
    "l3=[1,24.24,\"hallo\",(1,3)]\n",
    "l4=list(\"hello\")\n",
    "l5=[x**2 for x in range(4)]\n",
    "print(l1,l2,l3,l4,l5,sep='\\n')"
   ]
  },
  {
   "cell_type": "markdown",
   "id": "89e19bf2",
   "metadata": {},
   "source": [
    "## List Indexing  and Slicing\n",
    "- List Index: Index Operator: `[index value]`\n",
    "    - List index can be +ve,or -ve\n",
    "    - Indexing Range: 0 to len(list)-1\n",
    "    - Negative Index: Start from Right \n",
    "        - -1 Index---> Last Element of list \n",
    "            - Eg. len(list)=4\n",
    "            - +ve index = len(list)+negative index\n",
    "    - Negative Indexing Range: -1 to -(len(list))\n",
    "\n",
    "- List Slicing\n",
    "    - Slicing Operator: `[start:end:step]`\n",
    "        - start: inclusive\n",
    "        - end:exclusive\n",
    "    - step\n",
    "        - default:1\n",
    "        - +ve\n",
    "            - start:\n",
    "                - default:0\n",
    "            - end:\n",
    "                - default:len(list)\n",
    "        - -ve\n",
    "            - start:\n",
    "                - default:-1\n",
    "                - default:-(len(list)+1)\n",
    "                "
   ]
  },
  {
   "cell_type": "code",
   "execution_count": 18,
   "id": "e27ed57b",
   "metadata": {},
   "outputs": [
    {
     "name": "stdout",
     "output_type": "stream",
     "text": [
      "Element at index-0:1\n",
      "Element at index-1:4.3\n",
      "Element at index-2:True\n",
      "Element at index-3:(5+5j)\n",
      "Element at index-4:Hello\n",
      "Element at index-5:(1, 2)\n"
     ]
    }
   ],
   "source": [
    "lst=[1,4.3,True,5+5j,\"Hello\",(1,2)] \n",
    "for i in range(len(lst)):\n",
    "    print(f\"Element at index-{i}:{lst[i]}\")\n"
   ]
  },
  {
   "cell_type": "code",
   "execution_count": 20,
   "id": "a9a55276",
   "metadata": {},
   "outputs": [
    {
     "name": "stdout",
     "output_type": "stream",
     "text": [
      "Element at index:-1:(1, 2)\n",
      "Element at index:-2:Hello\n",
      "Element at index:-3:(5+5j)\n",
      "Element at index:-4:True\n",
      "Element at index:-5:4.3\n",
      "Element at index:-6:1\n"
     ]
    }
   ],
   "source": [
    "# Negative Indexing\n",
    "lst=[1,4.3,True,5+5j,\"Hello\",(1,2)]\n",
    "for i in range(-1,-7,-1):\n",
    "    print(f\"Element at index:{i}:{lst[i]}\")"
   ]
  },
  {
   "cell_type": "code",
   "execution_count": null,
   "id": "acc2be94",
   "metadata": {},
   "outputs": [
    {
     "name": "stdout",
     "output_type": "stream",
     "text": [
      "[1, 4.3, True, (5+5j), 'Hello', (1, 2)]\n",
      "[(1, 2), 'Hello', (5+5j), True, 4.3, 1]\n",
      "[True, 'Hello']\n",
      "[(1, 2), 'Hello', (5+5j)]\n",
      "[]\n"
     ]
    }
   ],
   "source": [
    "# Slicing\n",
    "print(lst[::])\n",
    "print(lst[::-1])\n",
    "print(lst[2::2])\n",
    "print(lst[5:2:-1])\n",
    "print(lst[2:5:-1]) # No valid path to go backwards--> return an empty list"
   ]
  },
  {
   "cell_type": "markdown",
   "id": "228eb7c5",
   "metadata": {},
   "source": [
    "## Inserting into list:\n",
    "- List methods for insertion are:\n",
    "    - `append(value),insert(index,value)`\n",
    "    "
   ]
  },
  {
   "cell_type": "code",
   "execution_count": null,
   "id": "5c23d5b3",
   "metadata": {},
   "outputs": [
    {
     "name": "stdout",
     "output_type": "stream",
     "text": [
      "[1, 3]\n",
      "[1, 3, 8]\n",
      "[1, 3, False, 8]\n",
      "[1, 3, False, 8, [1, 2, 3]]\n"
     ]
    }
   ],
   "source": [
    "lst=[1,3]\n",
    "print(lst)\n",
    "lst.append(8)\n",
    "print(lst)\n",
    "lst.insert(2,False)\n",
    "print(lst)\n",
    "lst.insert(23,[1,2,3]) # index>len(list)--> value inserted at last index like append\n",
    "print(lst)"
   ]
  },
  {
   "cell_type": "code",
   "execution_count": null,
   "id": "7051442c",
   "metadata": {},
   "outputs": [
    {
     "name": "stdout",
     "output_type": "stream",
     "text": [
      "[1, 2, 3]\n",
      "1 2 3\n"
     ]
    }
   ],
   "source": [
    "# Packing and Unpacking\n",
    "a,b,c=1,2,3\n",
    "l=[a,b,c] # packing\n",
    "print(l)\n",
    "d,e,f=l\n",
    "print(d,e,f) # unpacking"
   ]
  },
  {
   "cell_type": "markdown",
   "id": "b5d39c34",
   "metadata": {},
   "source": [
    "## Builtin Functions\n",
    "1. `min()`\n",
    "2. `max()`\n",
    "3. `sorted()`\n",
    "4. `len()`\n",
    "5. `sum()`\n"
   ]
  },
  {
   "cell_type": "code",
   "execution_count": 41,
   "id": "0f44bd72",
   "metadata": {},
   "outputs": [
    {
     "name": "stdout",
     "output_type": "stream",
     "text": [
      "(13.23+83j)\n",
      "3\n"
     ]
    }
   ],
   "source": [
    "l=[1,4.23,8+83j]\n",
    "print(sum(l))\n",
    "#print(max(l))  TypeError: max will return only when all elements are comparable with each other\n",
    "# min() and sorted() will also give TypeError\n",
    "print(len(l))"
   ]
  },
  {
   "cell_type": "code",
   "execution_count": 42,
   "id": "e7dea86d",
   "metadata": {},
   "outputs": [
    {
     "name": "stdout",
     "output_type": "stream",
     "text": [
      "12.48\n",
      "1\n",
      "5\n",
      "[1, 2.24, 4.24, 5]\n",
      "4\n"
     ]
    }
   ],
   "source": [
    "l=[1,4.24,5,2.24]\n",
    "print(sum(l))\n",
    "print(min(l))\n",
    "print(max(l))\n",
    "print(sorted(l))\n",
    "print(len(l))"
   ]
  },
  {
   "cell_type": "code",
   "execution_count": null,
   "id": "53ff6e3d",
   "metadata": {},
   "outputs": [
    {
     "name": "stdout",
     "output_type": "stream",
     "text": [
      "thanks\n",
      "bye\n",
      "['bye', 'goodbye', 'hello', 'thanks']\n"
     ]
    }
   ],
   "source": [
    "l=[\"hello\",\"bye\",\"goodbye\",\"thanks\"]\n",
    "#print(sum(l)) TypeError\n",
    "# Lexicographically Compare strings\n",
    "print(max(l))\n",
    "print(min(l))\n",
    "print(sorted(l))"
   ]
  },
  {
   "cell_type": "code",
   "execution_count": 53,
   "id": "44c52be3",
   "metadata": {},
   "outputs": [
    {
     "name": "stdout",
     "output_type": "stream",
     "text": [
      "[1, 2, 'Arj']\n",
      "[1, 4, 'Ash']\n",
      "[[1, 2, 'Arj'], [1, 2, 'Bhou'], [1, 4, 'Ash']]\n"
     ]
    }
   ],
   "source": [
    "l=[[1,2,\"Arj\"],[1,4,\"Ash\"],[1,2,\"Bhou\"]]\n",
    "print(min(l))\n",
    "print(max(l))\n",
    "print(sorted(l))\n",
    "\n",
    "# from this code it is clear min(),max(),sorted() will not produce any TypeError if all elements of iterator allow comparison using relational operator with each without raising any TypeError"
   ]
  },
  {
   "cell_type": "markdown",
   "id": "b09ab44b",
   "metadata": {},
   "source": [
    "## List Methods\n",
    "- clear(): clear entire list and generate an empty list\n",
    "- pop(index):remove the element at index and return it\n",
    "- remove(element):remove first occurence of element in the list\n",
    "- index(element): return the index value of first occurence of element in the list\n",
    "- reverse(): reverse the list at place\n",
    "- count(element):count the no. of occurence of element inside the list\n",
    "- sort():sort the list in place\n",
    "- extend(iterable):adds the elements of the iterable in the list as elements from last index "
   ]
  },
  {
   "cell_type": "code",
   "execution_count": 56,
   "id": "de8569fc",
   "metadata": {},
   "outputs": [],
   "source": [
    "l=[1,2,4,\"Hello\"]"
   ]
  },
  {
   "cell_type": "code",
   "execution_count": 72,
   "id": "9e5b3315",
   "metadata": {},
   "outputs": [
    {
     "name": "stdout",
     "output_type": "stream",
     "text": [
      "[]\n",
      "[1, 3, 843, 38982]\n",
      "[1, 3, 843, 38982, 1, 'arj', [1, 3]]\n",
      "1\n",
      "[1, 3, 843, 38982, 'arj', [1, 3]]\n",
      "[1, 3, 843, 38982, 'arj', [1, 3], 38982, 843, 1, 83]\n",
      "2\n",
      "[3, 843, 38982, 'arj', [1, 3], 38982, 843, 1, 83]\n",
      "2\n",
      "[3, 843, 38982, 'arj', [1, 3], 38982, 843, 1, 83]\n",
      "[83, 1, 843, 38982, [1, 3], 'arj', 38982, 843, 3]\n"
     ]
    }
   ],
   "source": [
    "l.clear()\n",
    "print(l)\n",
    "l=[843,1,3,38982]\n",
    "l.sort()\n",
    "print(l)\n",
    "l2=(1,\"arj\",[1,3])\n",
    "l.extend(l2)\n",
    "print(l)\n",
    "pop_element=l.pop(4)\n",
    "print(pop_element)\n",
    "print(l)\n",
    "l.extend((38982,843,1,83))\n",
    "print(l)\n",
    "print(l.count(1))\n",
    "l.remove(1)\n",
    "print(l)\n",
    "print(l.index(38982))\n",
    "print(l)\n",
    "l.reverse()\n",
    "print(l)\n"
   ]
  },
  {
   "cell_type": "markdown",
   "id": "17d32b00",
   "metadata": {},
   "source": [
    "## List Comparison\n",
    "- List are compared element by element\n",
    "    - TypeError: if the elements compared are not comparable due their type \n",
    "    - Comparison stops when while comparing element by element 1st difference occurs"
   ]
  },
  {
   "cell_type": "code",
   "execution_count": 74,
   "id": "75355312",
   "metadata": {},
   "outputs": [
    {
     "name": "stdout",
     "output_type": "stream",
     "text": [
      "True\n",
      "False\n"
     ]
    }
   ],
   "source": [
    "l=[1,3.4,\"Arjun\",(1,3,\"Ram\")]\n",
    "l2=[1,3.4,\"Arjun\",(1,3,\"Bharat\")]\n",
    "l3=l=[1,3.4,\"Bhoumik\",(1,3,\"Bharat\")]\n",
    "print(l>l2)\n",
    "print(l>l3)\n"
   ]
  },
  {
   "cell_type": "markdown",
   "id": "305aa153",
   "metadata": {},
   "source": [
    "## Concatenation and Repition"
   ]
  },
  {
   "cell_type": "code",
   "execution_count": 77,
   "id": "55893f88",
   "metadata": {},
   "outputs": [
    {
     "name": "stdout",
     "output_type": "stream",
     "text": [
      "[2, 45, 'hello', (1, 3)]\n",
      "[2, 45, 2, 45, 'hello', (1, 3)]\n"
     ]
    }
   ],
   "source": [
    "l=[2,45]\n",
    "l1=[\"hello\",(1,3)]\n",
    "print(l+l1)\n",
    "print(l*2+l1)"
   ]
  },
  {
   "cell_type": "markdown",
   "id": "744226be",
   "metadata": {},
   "source": [
    "## Nested List"
   ]
  },
  {
   "cell_type": "code",
   "execution_count": 80,
   "id": "8290f98b",
   "metadata": {},
   "outputs": [
    {
     "name": "stdout",
     "output_type": "stream",
     "text": [
      "Arj\n",
      "4\n",
      "13\n"
     ]
    }
   ],
   "source": [
    "l=[[1,2,\"Arj\"],[1,3,\"Ashish\"],[1,34,\"Bhoumik\"]]\n",
    "print(l[0][2])\n",
    "l=[[[1,3,4],[14,2,4]],[[1,5,2,4],[1,3,4,13]]]\n",
    "print(l[0][1][2])\n",
    "print(l[1][1][3])"
   ]
  },
  {
   "cell_type": "code",
   "execution_count": null,
   "id": "8b7013e9",
   "metadata": {},
   "outputs": [],
   "source": []
  }
 ],
 "metadata": {
  "kernelspec": {
   "display_name": "Python 3",
   "language": "python",
   "name": "python3"
  },
  "language_info": {
   "codemirror_mode": {
    "name": "ipython",
    "version": 3
   },
   "file_extension": ".py",
   "mimetype": "text/x-python",
   "name": "python",
   "nbconvert_exporter": "python",
   "pygments_lexer": "ipython3",
   "version": "3.13.2"
  }
 },
 "nbformat": 4,
 "nbformat_minor": 5
}
