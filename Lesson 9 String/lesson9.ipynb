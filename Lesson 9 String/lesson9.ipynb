{
 "cells": [
  {
   "cell_type": "markdown",
   "id": "d03685d2",
   "metadata": {},
   "source": []
  },
  {
   "cell_type": "markdown",
   "id": "60b4aad2",
   "metadata": {},
   "source": []
  },
  {
   "cell_type": "code",
   "execution_count": null,
   "id": "a57d39d3",
   "metadata": {},
   "outputs": [],
   "source": []
  },
  {
   "cell_type": "markdown",
   "id": "ff41b082",
   "metadata": {},
   "source": []
  }
 ],
 "metadata": {
  "kernelspec": {
   "display_name": "Python 3",
   "language": "python",
   "name": "python3"
  },
  "language_info": {
   "name": "python",
   "version": "3.13.2"
  }
 },
 "nbformat": 4,
 "nbformat_minor": 5
}
