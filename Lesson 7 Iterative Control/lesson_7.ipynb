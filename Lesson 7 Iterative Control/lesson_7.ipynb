{
 "cells": [
  {
   "cell_type": "markdown",
   "metadata": {},
   "source": [
    "# **<span style=\"color:orange\">Lesson-7</span>**"
   ]
  },
  {
   "cell_type": "markdown",
   "metadata": {},
   "source": [
    "## Iterative Control Statements\n",
    "- Iterative Control are a type control flow statement which help to run a block of code multiple times\n",
    "- It also helps to Run Iterative Pattern codes\n",
    "\n",
    "## Types of Iterative statement in Python\n",
    "1. `while` loop\n",
    "    - while is a pure looping statement which runs a block of code in a loop until a terminating condition is reached\n",
    "    - It is very important to set a terminating condition while defining while statement otherwise it will lead to infinite looping\n",
    "    - Every while statement has:\n",
    "        - condition: If condition is evaluated as True while we run the block of code else skip it\n",
    "        - initialising variable: Act as starting condition for the block to run\n",
    "        - Termination condition: A increment / decrement or a keyword like break or continue to exit the while block control flow\n",
    "\n",
    "2. `for` loop\n",
    "    - In python the working of `for` is entirely differen compare to language like C and C++\n",
    "    - In Python for loop iterates through an iterator(data_structure having `__iter__` method)\n",
    "    - It will run it's block of code for the number of iterations(elements) in the data_structure\n",
    "    - Every `for` statement has:\n",
    "        - Iterator:Data_Structure like range,list,tuple having `__iter__` method\n",
    "        - Membership operator:`in` for iterating through Data_Structure\n",
    "        - loop variable: which store each iteration \n",
    "        - Code Block"
   ]
  },
  {
   "cell_type": "code",
   "execution_count": 2,
   "metadata": {},
   "outputs": [
    {
     "name": "stdout",
     "output_type": "stream",
     "text": [
      "2 , 4 , 6 , 8 , 10 , 12 , 14 , 16 , 18 , 20 , "
     ]
    }
   ],
   "source": [
    "# while loop\n",
    "num=int(input(\"Enter number even numbers you want:\"))\n",
    "i=1 # condition variable # initial condition\n",
    "while (i <= num): \n",
    "    print(2*i,end=\" , \")\n",
    "    i+=1 # set terminating condition\n"
   ]
  },
  {
   "cell_type": "code",
   "execution_count": 3,
   "metadata": {},
   "outputs": [
    {
     "name": "stdout",
     "output_type": "stream",
     "text": [
      "2 , 4 , 6 , 8 , 10 , 12 , 14 , 16 , 18 , 20 , "
     ]
    }
   ],
   "source": [
    "# for loop\n",
    "num=int(input(\"Enter number even numbers you want:\"))\n",
    "for x in range (1,num+1): # x is loop variable\n",
    "    print(2*x,end=\" , \") # no termination condition\n",
    "\n",
    "# The block will stop running as the no. iterations get over "
   ]
  },
  {
   "cell_type": "markdown",
   "metadata": {},
   "source": [
    "## <span style=\"color:#229bbc\">break Statement</span>\n",
    "- `break` is a soft keyword in python\n",
    "- when used inside a Iterative Block --> `break` control ko iterative block ke bahar la denga jaise interpreter reads it\n",
    "- Always inside Iterative block\n",
    "- Used when we want to stop the Iterative Control when certain condition is reached"
   ]
  },
  {
   "cell_type": "code",
   "execution_count": 6,
   "metadata": {},
   "outputs": [
    {
     "name": "stdout",
     "output_type": "stream",
     "text": [
      "You have won the game!\n",
      "No. of Attempts:2\n"
     ]
    }
   ],
   "source": [
    "# break\n",
    "# if an even no. is entered withing 3 attempts you win the game\n",
    "attempt=1\n",
    "while(attempt<=3):\n",
    "    num=int(input(\"Enter an even number:\"))\n",
    "    if(num%2==0):\n",
    "        print(\"You have won the game!\\nNo. of Attempts:%d\"%attempt)\n",
    "        break\n",
    "    attempt+=1\n",
    "\n",
    "if(attempt==4):\n",
    "    print(\"You have lost the game!\\nMore than 3 attempts\")"
   ]
  },
  {
   "cell_type": "markdown",
   "metadata": {},
   "source": [
    "## <span style=\"color:#229bbc\">Continue Statement</span>\n",
    "- `continue` is a soft keyword \n",
    "- It is used inside an Iterative block\n",
    "- When interpret reads continue it skips rest statement of the Iterative block shifts control to next iteration"
   ]
  },
  {
   "cell_type": "code",
   "execution_count": 9,
   "metadata": {},
   "outputs": [
    {
     "name": "stdout",
     "output_type": "stream",
     "text": [
      "2\n",
      "4\n",
      "6\n",
      "8\n",
      "10\n"
     ]
    }
   ],
   "source": [
    "# continue\n",
    "num=int(input(\"Enter a number:\"))\n",
    "i=1\n",
    "while(i<=num):\n",
    "    if(i%2!=0):\n",
    "        i+=1\n",
    "        continue\n",
    "    print(i)\n",
    "    i+=1\n"
   ]
  },
  {
   "cell_type": "markdown",
   "metadata": {},
   "source": [
    "## <span style=\"color:#229bbc\">while-else and for-else statement</span>\n",
    "- `while-else and for-else` where we want to run a block of statements when iterative block gets terminated after completing it's complete life-cycle\n",
    "-  `else`: will not run if the Iterative Block gets terminated due to `break` statement"
   ]
  },
  {
   "cell_type": "code",
   "execution_count": 10,
   "metadata": {},
   "outputs": [
    {
     "name": "stdout",
     "output_type": "stream",
     "text": [
      "1 , 2 , 3 , 4 , 5 , 6 , 7 , 8 , 9 , While block complete it's life\n"
     ]
    }
   ],
   "source": [
    "# \n",
    "i=1\n",
    "while(i<10):\n",
    "    print(i,end=\" , \")\n",
    "    i+=1\n",
    "else:\n",
    "    print(\"While block complete it's life\")"
   ]
  },
  {
   "cell_type": "code",
   "execution_count": null,
   "metadata": {},
   "outputs": [],
   "source": []
  }
 ],
 "metadata": {
  "kernelspec": {
   "display_name": "Python 3",
   "language": "python",
   "name": "python3"
  },
  "language_info": {
   "codemirror_mode": {
    "name": "ipython",
    "version": 3
   },
   "file_extension": ".py",
   "mimetype": "text/x-python",
   "name": "python",
   "nbconvert_exporter": "python",
   "pygments_lexer": "ipython3",
   "version": "3.13.2"
  }
 },
 "nbformat": 4,
 "nbformat_minor": 2
}
