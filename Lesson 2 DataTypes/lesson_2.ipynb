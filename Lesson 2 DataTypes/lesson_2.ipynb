{
 "cells": [
  {
   "cell_type": "markdown",
   "metadata": {},
   "source": [
    "# <span style=\"color:orange\">Lesson-2 Revision</span>\n",
    "\n"
   ]
  },
  {
   "cell_type": "markdown",
   "metadata": {},
   "source": [
    "## Comments:\n",
    "- Comments are lines written by developer to make the code more readable for him\n",
    "- This lines are ignored by parser while parsing the script\n",
    "- This is a part good coding practices which makes the code more readable\n",
    "\n",
    "**Types of Comments**\n",
    "1. Single-Line comment:\n",
    "```python\n",
    "# single line comment\n",
    "```\n",
    "2. Multi-Line comment:\n",
    "```python\n",
    "\"\"\" multiline comment \n",
    "\"\"\"\n",
    "```\n",
    "** Best Practices\n",
    "- Write short precise comments wherever neccessary for further refactoring and debugging\n",
    "\n",
    "---\n",
    "---"
   ]
  },
  {
   "cell_type": "markdown",
   "metadata": {},
   "source": [
    "## Tokens in Python\n",
    "- Tokens: This are the smallest element that is has syntactical meaning in Python\n",
    "- These are parsed by the compiler and used to create the AST\n",
    "- Tokens are the building blocks of Python script\n",
    "\n",
    "### Types of Tokens in Python\n",
    "1. Keywords: These are the reserved words which have predefined meaning in PVM\n",
    "- Python has 35 keywords \n",
    "- List of keywords can be print from `keyword` module\n",
    "- Keywords cannot be used as variable names in Python it will generate a `SyntaxError` if used\n",
    "\n",
    "2. Identifiers: These are the names given to Python user defined objects like function,variables,classes or objects\n",
    "- Naming Rules:\n",
    "    - Must start with a letter (A-Z, a-z) or an underscore (_).\n",
    "    - Followed by letters, digits (0-9), or underscores.\n",
    "    - Cannot use Python keywords.\n",
    "    - Case-sensitive (name and Name are differen)\n",
    "- If Rule not followed raise  `SyntaxError`\n",
    "\n",
    "3. Literals: These are constant values \n",
    "- String Literal: \n",
    "    - Single Line: `\"hello\" or 'hello'`\n",
    "    - Multi Line: \n",
    "    ``` \n",
    "    \"\"\" Multiline\n",
    "    \"\"\"\n",
    "    ''' Multiline \n",
    "    '''\n",
    "    ```\n",
    "- Numeric Literal\n",
    "    - Integer Literal: 2,+2,-7\n",
    "    - Float Literal: 3.483,-3.753,3.754e5,3.82E10,2+5j,0b1001,0xA54B,0o75\n",
    "    - Boolean Literal: True,False\n",
    "\n",
    "4. Operators: These are symbols which operates(computation) on the operands(arguments) and return a value\n",
    "- Eg. `+,-,*,**,/,//,%,>,>=,<=,<,==,!=,and,or,not,~,^,|,&,>>,<<,is,is not,in,not in,=,*=,/=,-=,+= etc.`\n",
    "\n",
    "5. Delimiters: Special symbols that serve as separator in script\n",
    "- Eg. `{},(),:,[],;,@,->\n",
    " \n",
    "6. Identation\n",
    "7. Punctuation: `:,;@`\n",
    "8. Comments\n"
   ]
  },
  {
   "cell_type": "code",
   "execution_count": 5,
   "metadata": {},
   "outputs": [
    {
     "name": "stdout",
     "output_type": "stream",
     "text": [
      "['False', 'None', 'True', 'and', 'as', 'assert', 'async', 'await', 'break', 'class', 'continue', 'def', 'del', 'elif', 'else', 'except', 'finally', 'for', 'from', 'global', 'if', 'import', 'in', 'is', 'lambda', 'nonlocal', 'not', 'or', 'pass', 'raise', 'return', 'try', 'while', 'with', 'yield']\n",
      "\n",
      "No. of keywords in Python:35\n"
     ]
    }
   ],
   "source": [
    "# Code to print Keywords from keyword module\n",
    "from keyword import kwlist as k\n",
    "print(k)\n",
    "print()\n",
    "print(f\"No. of keywords in Python:{len(k)}\")"
   ]
  },
  {
   "cell_type": "code",
   "execution_count": 6,
   "metadata": {},
   "outputs": [
    {
     "ename": "SyntaxError",
     "evalue": "invalid syntax (89898201.py, line 2)",
     "output_type": "error",
     "traceback": [
      "\u001b[1;36m  Cell \u001b[1;32mIn[6], line 2\u001b[1;36m\u001b[0m\n\u001b[1;33m    if=10\u001b[0m\n\u001b[1;37m      ^\u001b[0m\n\u001b[1;31mSyntaxError\u001b[0m\u001b[1;31m:\u001b[0m invalid syntax\n"
     ]
    }
   ],
   "source": [
    "# Name error if keywords used as variable name\n",
    "if=10"
   ]
  },
  {
   "cell_type": "code",
   "execution_count": 10,
   "metadata": {},
   "outputs": [
    {
     "name": "stdout",
     "output_type": "stream",
     "text": [
      "Hello Arjun!\n"
     ]
    }
   ],
   "source": [
    "# Identifiers\n",
    "\n",
    "num1=10 # int object \n",
    "def greet(s): # function object named:greet\n",
    "    print(f\"Hello {s}!\")\n",
    "\n",
    "greet(\"Arjun\")"
   ]
  },
  {
   "cell_type": "markdown",
   "metadata": {},
   "source": [
    "## Variable\n",
    "- Variable is programming entity which is used by the program to store data(information) which being used during program execution in various ways\n",
    "- In Python we declare variable **dynamically**\n",
    "\n",
    "### type() function:\n",
    "- Inbuilt functions \n",
    "- Argument: Object,reference_of_object(Identifier) `Take single argument at a time`\n",
    "- Return: Class to which the object belongs to \n",
    "\n",
    "### id() function:\n",
    "- Inbuilt function\n",
    "- Argument:Object,reference_of_object(Identifier) `Take single argument at a time`\n",
    "- Return: The virtual address used by PVM to map the object in Private Heap Space(PHS)"
   ]
  },
  {
   "cell_type": "code",
   "execution_count": 12,
   "metadata": {},
   "outputs": [
    {
     "name": "stdout",
     "output_type": "stream",
     "text": [
      "var_name type:<class 'int'>\n",
      " var_name1 type:<class 'float'>\n",
      "Address of var_name:0x7fff7ebe04c8\n"
     ]
    }
   ],
   "source": [
    "var_name=10\n",
    "var_name1=11.92\n",
    "print(f\"var_name type:{type(var_name)}\\n var_name1 type:{type(var_name1)}\")\n",
    "print(f\"Address of var_name:{hex(id(var_name))}\")"
   ]
  },
  {
   "cell_type": "markdown",
   "metadata": {},
   "source": [
    "## Data-Types\n",
    "- Data-Types refers the type/class to which the data belongs to\n",
    "- Very important concepth of every programming language\n",
    "\n",
    "### Fundamental Data-Types of Python\n",
    "1. Integer `int`\n",
    "2. Float `float`\n",
    "3. Complex `complex`\n",
    "4. String `str`\n",
    "5. Boolean `bool`\n",
    "\n",
    "### Sequence Data-Types in Python\n",
    "1. String `str`\n",
    "    - Ordered Sequence of characters\n",
    "    - Immutable\n",
    "    - Syntax:\n",
    "    ```python\n",
    "    s1=\"Arjun\"\n",
    "    s2='a'\n",
    "    s3=\"\"\" Multiline string \"\"\"\n",
    "2. List `list`\n",
    "    - Ordered Sequence of Heterogenous Data-Types\n",
    "    - Every element is indexed\n",
    "    - Mutable\n",
    "    - Syntax:\n",
    "    ```python\n",
    "    l1=[1,\"Arjun\",True,8+9j,5.64,(3,5),[1,42],{1:\"Arjun\",2:\"Ashish\"}]\n",
    "    ```\n",
    "3. Tuple `tuple`\n",
    "    - Ordered Sequence of Heterogenous Data-Types\n",
    "    - Immutable\n",
    "    - Every element is indexed\n",
    "    - Syntax:\n",
    "    ```python\n",
    "    t1=(1,3.43,True,9+3j,[1,2,4383])\n",
    "    ```\n",
    "\n",
    "### Mapping Type\n",
    "1. Dictionary `dict`\n",
    "    - Key-value pairs are elements\n",
    "    - Key and value can be of any data-type\n",
    "    - Indexing based on key value\n",
    "    - Mutable\n",
    "    - Syntax:\n",
    "    ```python\n",
    "    d1={1:\"Arjun\",\"name\":\"Gautam\"}\n",
    "    ```\n",
    "\n",
    "### Set Type\n",
    "1. Set `set`\n",
    "    - Unordered set of elements\n",
    "    - Duplicate elements are not allowed\n",
    "    - Elements are not Indexed\n",
    "    - Mutable\n",
    "    - Can't store unhashable type data: Eg. list,dict\n",
    "    - Syntax:\n",
    "    ``` python\n",
    "    s1={1,3.53,}\n",
    "    ```\n",
    "2. frozenset `frozenset`\n",
    "    - Same like set but immutable\n",
    "    - Syntax:\n",
    "    ```python\n",
    "    s1=frozenset({1,3.48,(1,3)})\n",
    "    ```\n",
    "\n",
    "### None Type\n",
    "- Represent absence of any value\n",
    "\n",
    "### Binary Type\n",
    "1. bytes `bytes`\n",
    "    - Immutable Sequence of bytes\n",
    "    - Syntax:\n",
    "    ```python\n",
    "    b1=b'Hello' each character represent a byte element\n",
    "    b2=bytes([72,101,108,108,111])# Each element of list is ASCII code of each byte\n",
    "    ```\n",
    "2. bytearray `bytearray`\n",
    "    - Mutable sequence of bytes\n",
    "3. memoryview\n",
    "    - creates a view of bytes or bytearray\n",
    "    - virtual bytes or bytearray which reference to original bytearray\n"
   ]
  },
  {
   "cell_type": "code",
   "execution_count": 5,
   "metadata": {},
   "outputs": [
    {
     "name": "stdout",
     "output_type": "stream",
     "text": [
      "Interning of instance object 8:True\n",
      "Does the interning range(-5,256) is strinct: Check c is d:False\n"
     ]
    }
   ],
   "source": [
    "# Interning (Caching)\n",
    "a=8\n",
    "b=8\n",
    "print(f\"Interning of instance object 8:{a is b}\")\n",
    "c=257\n",
    "d=257\n",
    "print(f\"Does the interning range(-5,256) is strinct: Check c is d:{c is d}\")"
   ]
  },
  {
   "cell_type": "code",
   "execution_count": 6,
   "metadata": {},
   "outputs": [
    {
     "name": "stdout",
     "output_type": "stream",
     "text": [
      "Float size:24\n",
      "Int size:28\n"
     ]
    }
   ],
   "source": [
    "# Using sys module and getsizeof method to determine\n",
    "from sys import getsizeof as gs\n",
    "int_val=10\n",
    "float_val=30.93038494839\n",
    "print(f\"Float size:{gs(float_val)}\")\n",
    "print(f\"Int size:{gs(int_val)}\")"
   ]
  },
  {
   "cell_type": "code",
   "execution_count": 24,
   "metadata": {},
   "outputs": [
    {
     "name": "stdout",
     "output_type": "stream",
     "text": [
      "False\n",
      "Reference Count of '892' is 3\n",
      "1263614633840\n",
      "1263614632720\n",
      "1263614631760\n"
     ]
    }
   ],
   "source": [
    "# Memory Mangement in Python\n",
    "    # Python stores instance object in PHS(Private Heap Space) and their reference variable(Identifier) in Namepace(Stack)\n",
    "\n",
    "a=892\n",
    "b=892\n",
    "print(a is b)\n",
    "import sys\n",
    "print(f\"Reference Count of '892' is {sys.getrefcount(892)}\")\n",
    "print(id(892))\n",
    "print(id(a))\n",
    "print(id(b))"
   ]
  },
  {
   "cell_type": "code",
   "execution_count": null,
   "metadata": {},
   "outputs": [
    {
     "name": "stdout",
     "output_type": "stream",
     "text": [
      "Reference count of 832:3\n",
      "3\n"
     ]
    }
   ],
   "source": [
    "import sys\n",
    "num=832\n",
    "print(f\"Reference count of {num}:{sys.getrefcount(832)}\")\n",
    "# Here the reference count is 3 because object '832' is also getting temporary referred when passed to getrefcount function and one temporary reference from REPL\n",
    "\n",
    "\n"
   ]
  },
  {
   "cell_type": "markdown",
   "metadata": {},
   "source": [
    "| Reference Source                     | Count |\n",
    "| ------------------------------------ | ----- |\n",
    "| `x = 832` — variable assignment      | +1    |\n",
    "| `getrefcount(x)` — function call arg | +1    |\n",
    "| REPL internal variable `_ = 832`     | +1    |\n",
    "| **Total**                            | = 3   |\n"
   ]
  },
  {
   "cell_type": "code",
   "execution_count": 30,
   "metadata": {},
   "outputs": [
    {
     "name": "stdout",
     "output_type": "stream",
     "text": [
      "(1, 4.2, True, 'Arjun', [1, 24])\n",
      "<class 'tuple'>\n",
      "(1, 4.2, True, 'Arjun', [1, 24, 7])\n"
     ]
    },
    {
     "ename": "AttributeError",
     "evalue": "'tuple' object has no attribute 'append'",
     "output_type": "error",
     "traceback": [
      "\u001b[1;31m---------------------------------------------------------------------------\u001b[0m",
      "\u001b[1;31mAttributeError\u001b[0m                            Traceback (most recent call last)",
      "Cell \u001b[1;32mIn[30], line 6\u001b[0m\n\u001b[0;32m      4\u001b[0m t1[\u001b[38;5;241m4\u001b[39m]\u001b[38;5;241m.\u001b[39mappend(\u001b[38;5;241m7\u001b[39m) \u001b[38;5;66;03m# List can be part of a tuple and behave as normal list\u001b[39;00m\n\u001b[0;32m      5\u001b[0m \u001b[38;5;28mprint\u001b[39m(t1)\n\u001b[1;32m----> 6\u001b[0m \u001b[43mt1\u001b[49m\u001b[38;5;241;43m.\u001b[39;49m\u001b[43mappend\u001b[49m(\u001b[38;5;241m4\u001b[39m)\n",
      "\u001b[1;31mAttributeError\u001b[0m: 'tuple' object has no attribute 'append'"
     ]
    }
   ],
   "source": [
    "t1=(1,4.2,True,\"Arjun\",[1,24])\n",
    "print(t1)\n",
    "print(type(t1))\n",
    "t1[4].append(7) # List can be part of a tuple and behave as normal list\n",
    "print(t1)\n",
    "t1.append(4)"
   ]
  },
  {
   "cell_type": "code",
   "execution_count": 31,
   "metadata": {},
   "outputs": [
    {
     "name": "stdout",
     "output_type": "stream",
     "text": [
      "{1: 'Arjun', 2: 'Ashish', 3: 'Bhoumik'}\n",
      "{1: 'Arjun', 2: 'Ashish', 3: 'Bhoumik', 4: 'Abhishek'}\n"
     ]
    }
   ],
   "source": [
    "d1={1:\"Arjun\",2:\"Ashish\",3:\"Bhoumik\"}\n",
    "print(d1)\n",
    "# Dictionary is mutable\n",
    "d1[4]=\"Abhishek\"\n",
    "print(d1)"
   ]
  },
  {
   "cell_type": "code",
   "execution_count": 47,
   "metadata": {},
   "outputs": [
    {
     "name": "stdout",
     "output_type": "stream",
     "text": [
      "<class 'frozenset'>\n",
      "<class 'frozenset'>\n",
      "frozenset({1, 2})\n",
      "frozenset({1, 4, 828})\n",
      "frozenset({1, 3.48, (1, 3)})\n",
      "frozenset({1, 'Arjun'})\n"
     ]
    }
   ],
   "source": [
    "s1=frozenset({1,3.48,(1,3)})\n",
    "s2=frozenset((1,4,828))\n",
    "s3=frozenset({1:\"Arjun\",2:\"Ashish\"}) # Frozenset is taking only key value\n",
    "s4=frozenset([1,\"Arjun\"])\n",
    "print(type(s1))\n",
    "print(type(s2))\n",
    "print(s3)\n",
    "print(s2)\n",
    "print(s1)\n",
    "print(s4)"
   ]
  },
  {
   "cell_type": "code",
   "execution_count": 54,
   "metadata": {},
   "outputs": [
    {
     "name": "stdout",
     "output_type": "stream",
     "text": [
      "b'\\x00\\x00\\x00\\x00\\x00'\n",
      "38\n",
      "b'Hello'\n",
      "b'Hello'\n"
     ]
    }
   ],
   "source": [
    "print(bytes(5))\n",
    "import sys \n",
    "print(sys.getsizeof(bytes(5)))\n",
    "b=b'Hello'\n",
    "print(b)\n",
    "b2=bytes([72,101,108,108,111])\n",
    "print(b2)"
   ]
  },
  {
   "cell_type": "code",
   "execution_count": 52,
   "metadata": {},
   "outputs": [
    {
     "name": "stdout",
     "output_type": "stream",
     "text": [
      "72\n",
      "101\n",
      "108\n",
      "108\n",
      "111\n"
     ]
    }
   ],
   "source": [
    "s=\"Hello\"\n",
    "for z in s:\n",
    "    print(ord(z))"
   ]
  },
  {
   "cell_type": "code",
   "execution_count": 63,
   "metadata": {},
   "outputs": [
    {
     "name": "stdout",
     "output_type": "stream",
     "text": [
      "nujrA\n",
      "Arjun\n",
      "bytearray(b'Hello')\n",
      "[111, 108, 108, 101, 73]\n",
      "bytearray(b'Iello') <memory at 0x0000012635644B80>\n"
     ]
    }
   ],
   "source": [
    "s=\"Arjun\"\n",
    "print(s[::-1])\n",
    "print(s)\n",
    "data=bytearray([72,101,108,108,111])\n",
    "print(data)\n",
    "mv1=memoryview(data)\n",
    "mv1[0]=73\n",
    "mv=memoryview(data)\n",
    "s2=mv[::-1]\n",
    "print(list(s2))\n",
    "print(data,mv)"
   ]
  },
  {
   "cell_type": "code",
   "execution_count": 76,
   "metadata": {},
   "outputs": [
    {
     "name": "stdout",
     "output_type": "stream",
     "text": [
      "41\n"
     ]
    }
   ],
   "source": [
    "b=b'(1,3)'\n",
    "print(b[4])"
   ]
  },
  {
   "cell_type": "code",
   "execution_count": 77,
   "metadata": {},
   "outputs": [
    {
     "data": {
      "text/plain": [
       "41"
      ]
     },
     "execution_count": 77,
     "metadata": {},
     "output_type": "execute_result"
    }
   ],
   "source": [
    "ord(')')"
   ]
  },
  {
   "cell_type": "markdown",
   "metadata": {},
   "source": [
    "## Dynamic Typing\n",
    "- In Python everything is a object\n",
    "\n",
    "### Elements of Object:\n",
    "- Reference Count\n",
    "- Memory Address\n",
    "- Value\n",
    "- Type\n",
    "\n",
    "### Namespace\n",
    "- Memory where PVM stores all reference variable names of the Objects\n",
    "- Types of Namespace\n",
    "    - Global Namespace\n",
    "    - Local Namespace\n",
    "    - Builtin Namespace\n",
    "- dir(): Inbuilt functions which list all namespace present in the global scope\n",
    "    - Includes both builtin and user-defined names\n",
    "- dir(__builtins__):List all built-in Identifiers in Python\n",
    "\n",
    "- globals():Return a dictionary of global names and their value they refer in a key-value pair\n",
    "- locals():Return a dictionary of local names and their value in key-value pair\n",
    "\n",
    "### Private Heap Space\n",
    "- Store all objects and data-structures\n",
    "\n",
    "### Scoping Rules in Python\n",
    "- LEGB Rule:Local,Enclosing,Global,Builtin\n",
    "\n"
   ]
  },
  {
   "cell_type": "code",
   "execution_count": 94,
   "metadata": {},
   "outputs": [],
   "source": [
    "a=[]\n",
    "b=[a]\n",
    "a.append(b)"
   ]
  },
  {
   "cell_type": "code",
   "execution_count": 100,
   "metadata": {},
   "outputs": [
    {
     "name": "stdout",
     "output_type": "stream",
     "text": [
      "10 20\n",
      "Local Namespace inside function: {'y': 20}\n",
      "10\n",
      "User-Defined Names: ['In', 'Out', '_', '_51', '_66', '_68', '_69', '_70', '_77', '_dh', '_i', '_i1', '_i10', '_i100', '_i11', '_i12', '_i13', '_i14', '_i15', '_i16', '_i17', '_i18', '_i19', '_i2', '_i20', '_i21', '_i22', '_i23', '_i24', '_i25', '_i26', '_i27', '_i28', '_i29', '_i3', '_i30', '_i31', '_i32', '_i33', '_i34', '_i35', '_i36', '_i37', '_i38', '_i39', '_i4', '_i40', '_i41', '_i42', '_i43', '_i44', '_i45', '_i46', '_i47', '_i48', '_i49', '_i5', '_i50', '_i51', '_i52', '_i53', '_i54', '_i55', '_i56', '_i57', '_i58', '_i59', '_i6', '_i60', '_i61', '_i62', '_i63', '_i64', '_i65', '_i66', '_i67', '_i68', '_i69', '_i7', '_i70', '_i71', '_i72', '_i73', '_i74', '_i75', '_i76', '_i77', '_i78', '_i79', '_i8', '_i80', '_i81', '_i82', '_i83', '_i84', '_i85', '_i86', '_i87', '_i88', '_i89', '_i9', '_i90', '_i91', '_i92', '_i93', '_i94', '_i95', '_i96', '_i97', '_i98', '_i99', '_ih', '_ii', '_iii', '_oh', 'a', 'b', 'b2', 'c', 'd', 'd1', 'data', 'exit', 'float_val', 'foo', 'get_ipython', 'greet', 'gs', 'int_val', 'k', 'mv', 'mv1', 'num1', 'open', 'quit', 's', 's1', 's2', 's3', 's4', 'sys', 't1', 'var_name', 'var_name1', 'x', 'z']\n"
     ]
    }
   ],
   "source": [
    "x = 10  # Global namespace\n",
    "\n",
    "def foo():\n",
    "    y = 20  # Local namespace\n",
    "    print(x, y)\n",
    "    print(\"Local Namespace inside function:\", locals())\n",
    "\n",
    "foo()\n",
    "print(x)  # Accessible\n",
    "#print(y)  # Error: y is not defined\n",
    "user_defined = [name for name in dir() if not name.startswith(\"__\")]\n",
    "print(\"User-Defined Names:\", user_defined)"
   ]
  },
  {
   "cell_type": "code",
   "execution_count": 98,
   "metadata": {},
   "outputs": [
    {
     "name": "stdout",
     "output_type": "stream",
     "text": [
      "{'__name__': '__main__', '__doc__': 'Automatically created module for IPython interactive environment', '__package__': None, '__loader__': None, '__spec__': None, '__builtin__': <module 'builtins' (built-in)>, '__builtins__': <module 'builtins' (built-in)>, '_ih': ['', '# Code to print Keywords from keyword module\\nfrom keyword import kwlist as k\\nprint(k)', '# Code to print Keywords from keyword module\\nfrom keyword import kwlist as k\\nprint(k)\\nprint(f\"No. of keywords in Python:{len(k)}\")', '# Code to print Keywords from keyword module\\nfrom keyword import kwlist as k\\nprint(k)\\nprint(f\"No. of keywords in Python:{len(k)}\")', '# Code to print Keywords from keyword module\\nfrom keyword import kwlist as k\\nprint(k)\\nprint(f\"No. of keywords in Python:{len(k)}\")', '# Code to print Keywords from keyword module\\nfrom keyword import kwlist as k\\nprint(k)\\nprint()\\nprint(f\"No. of keywords in Python:{len(k)}\")', '# Name error if keywords used as variable name\\nif=10', '# Identifiers\\n\\nnum1=10 # int object \\ndef greet(s): # function object named:greet\\n    print(f\"Hello {s}!\")\\n\\ngreet(\"Arjun\")', '# Identifiers\\n\\nnum1=10 # int object \\ndef greet(s): # function object named:greet\\n    print(f\"Hello {s}!\")\\n\\ngreet(\"Arjun\")\\n123_name=19', '# Identifiers\\n\\nnum1=10 # int object \\ndef greet(s): # function object named:greet\\n    print(f\"Hello {s}!\")\\n\\ngreet(\"Arjun\")', '# Identifiers\\n\\nnum1=10 # int object \\ndef greet(s): # function object named:greet\\n    print(f\"Hello {s}!\")\\n\\ngreet(\"Arjun\")', 'var_name=10\\nvar_name1=11.92\\nprint(f\"var_name type:{type(var_name)}\\\\n var_name1 type:{type(var_name1)}\")\\nprint(f\"Address of var_name:{id(var_name)}\")', 'var_name=10\\nvar_name1=11.92\\nprint(f\"var_name type:{type(var_name)}\\\\n var_name1 type:{type(var_name1)}\")\\nprint(f\"Address of var_name:{hex(id(var_name))}\")', '# Interning (Caching)\\na=8\\nb=8\\nprint(f\"Interning of instance object 8:{a is b}\")', '# Interning (Caching)\\na=8\\nb=8\\nprint(f\"Interning of instance object 8:{a is b}\")\\nc=257\\nd=257\\nprint(f\"Does the interning range(-5,256) is strinct:{c is d}\")', '# Interning (Caching)\\na=8\\nb=8\\nprint(f\"Interning of instance object 8:{a is b}\")\\nc=257\\nd=257\\nprint(f\"Does the interning range(-5,256) is strinct: Check c is d:{c is d}\")', 'from sys import getsizeof as gs\\nint_val=10\\nfloat_val=30\\nprint(f\"Float size:{gs(float_val)}\")\\nprint(f\"Int size:{gs(int_val)}\")', 'from sys import getsizeof as gs\\nint_val=10\\nfloat_val=30.9303\\nprint(f\"Float size:{gs(float_val)}\")\\nprint(f\"Int size:{gs(int_val)}\")', 'from sys import getsizeof as gs\\nint_val=10\\nfloat_val=30.93038494839\\nprint(f\"Float size:{gs(float_val)}\")\\nprint(f\"Int size:{gs(int_val)}\")', '# Memory Mangement in Python\\n    # Python stores instance object in PHS(Private Heap Space) and their reference variable(Identifier) in Namepace(Stack)\\n\\na=892\\nb=892\\nprint(a is b)', '# Memory Mangement in Python\\n    # Python stores instance object in PHS(Private Heap Space) and their reference variable(Identifier) in Namepace(Stack)\\n\\na=892\\nb=892\\nprint(a is b)\\nimport sys\\nprintf(f\"Reference Count of \\'892\\' is {sys.getrefcount(892)}\")', '# Memory Mangement in Python\\n    # Python stores instance object in PHS(Private Heap Space) and their reference variable(Identifier) in Namepace(Stack)\\n\\na=892\\nb=892\\nprint(a is b)\\nimport sys\\nprint(f\"Reference Count of \\'892\\' is {sys.getrefcount(892)}\")', '# Memory Mangement in Python\\n    # Python stores instance object in PHS(Private Heap Space) and their reference variable(Identifier) in Namepace(Stack)\\n\\na=892\\nb=892\\nprint(a is b)\\nimport sys\\nprint(f\"Reference Count of \\'892\\' is {sys.getrefcount(892)}\")\\nprint(id(892))', '# Memory Mangement in Python\\n    # Python stores instance object in PHS(Private Heap Space) and their reference variable(Identifier) in Namepace(Stack)\\n\\na=892\\nb=892\\nprint(a is b)\\nimport sys\\nprint(f\"Reference Count of \\'892\\' is {sys.getrefcount(892)}\")\\nprint(id(892))\\nprint(id(a))', '# Memory Mangement in Python\\n    # Python stores instance object in PHS(Private Heap Space) and their reference variable(Identifier) in Namepace(Stack)\\n\\na=892\\nb=892\\nprint(a is b)\\nimport sys\\nprint(f\"Reference Count of \\'892\\' is {sys.getrefcount(892)}\")\\nprint(id(892))\\nprint(id(a))\\nprint(id(b))', 't1=(1,4.2,True,\"Arjun\",[1,24])', 't1=(1,4.2,True,\"Arjun\",[1,24])\\nprint(t1)', 't1=(1,4.2,True,\"Arjun\",[1,24])\\nprint(t1)\\nprint(type(t1))', 't1=(1,4.2,True,\"Arjun\",[1,24])\\nprint(t1)\\nprint(type(t1))\\nt1[4].append(7)', 't1=(1,4.2,True,\"Arjun\",[1,24])\\nprint(t1)\\nprint(type(t1))\\nt1[4].append(7)\\nprint(t1)', 't1=(1,4.2,True,\"Arjun\",[1,24])\\nprint(t1)\\nprint(type(t1))\\nt1[4].append(7) # List can be part of a tuple and behave as normal list\\nprint(t1)\\nt1.append(4)', 'd1={1:\"Arjun\",2:\"Ashish\",3:\"Bhoumik\"}\\nprint(d1)\\n# Dictionary is mutable\\nd1[4]=\"Abhishek\"\\nprint(d1)', 's1=frozenset({1,3.48,[1,4]})', 's1=frozenset({1,3.48,[1,4]})\\n{1,4,[1,3]}', '{1,4,[1,3]}', '{1,4,{1:\"Arjun\"}}', 's1=frozenset({1,3.48,(1,3)})', 's1=frozenset({1,3.48,(1,3)})\\nprint(type(s1))', 's1=frozenset({1,3.48,(1,3)})\\ns2=frozenset((1,4,828))\\nprint(type(s1))\\nprint(type(s2))', 's1=frozenset({1,3.48,(1,3)})\\ns2=frozenset((1,4,828))\\ns3=frozenset({1:\"Arjun\"})\\nprint(type(s1))\\nprint(type(s2))', 's1=frozenset({1,3.48,(1,3)})\\ns2=frozenset((1,4,828))\\ns3=frozenset({1:\"Arjun\"})\\nprint(type(s1))\\nprint(type(s2))\\nprint(s3)', 's1=frozenset({1,3.48,(1,3)})\\ns2=frozenset((1,4,828))\\ns3=frozenset({1:\"Arjun\"})\\nprint(type(s1))\\nprint(type(s2))\\nprint(s3)\\nprint(s2)', 's1=frozenset({1,3.48,(1,3)})\\ns2=frozenset((1,4,828))\\ns3=frozenset({1:\"Arjun\"})\\nprint(type(s1))\\nprint(type(s2))\\nprint(s3)\\nprint(s2)\\nprint(s1)', 's1=frozenset({1,3.48,(1,3)})\\ns2=frozenset((1,4,828))\\ns3=frozenset({1:\"Arjun\",2:\"Ashish\"}) # Frozenset is taking only key value\\nprint(type(s1))\\nprint(type(s2))\\nprint(s3)\\nprint(s2)\\nprint(s1)', 's1=frozenset({1,3.48,(1,3)})\\ns2=frozenset((1,4,828))\\ns3=frozenset({1:\"Arjun\",2:\"Ashish\"}) # Frozenset is taking only key value\\ns4=frozenset([1,\"Arjun\",[1,3]])\\nprint(type(s1))\\nprint(type(s2))\\nprint(s3)\\nprint(s2)\\nprint(s1)', 's1=frozenset({1,3.48,(1,3)})\\ns2=frozenset((1,4,828))\\ns3=frozenset({1:\"Arjun\",2:\"Ashish\"}) # Frozenset is taking only key value\\ns4=frozenset([1,\"Arjun\")\\nprint(type(s1))\\nprint(type(s2))\\nprint(s3)\\nprint(s2)\\nprint(s1)', 's1=frozenset({1,3.48,(1,3)})\\ns2=frozenset((1,4,828))\\ns3=frozenset({1:\"Arjun\",2:\"Ashish\"}) # Frozenset is taking only key value\\ns4=frozenset([1,\"Arjun\"])\\nprint(type(s1))\\nprint(type(s2))\\nprint(s3)\\nprint(s2)\\nprint(s1)', 's1=frozenset({1,3.48,(1,3)})\\ns2=frozenset((1,4,828))\\ns3=frozenset({1:\"Arjun\",2:\"Ashish\"}) # Frozenset is taking only key value\\ns4=frozenset([1,\"Arjun\"])\\nprint(type(s1))\\nprint(type(s2))\\nprint(s3)\\nprint(s2)\\nprint(s1)\\nprint(s4)', 'print(bytes(5))', 'print(bytes(5))\\nimport sys \\nprint(sys.getsizeof(bytes(5)))', \"print(bytes(5))\\nimport sys \\nprint(sys.getsizeof(bytes(5)))\\nb=b'Hello'\\nprint(b)\", \"ord('H')\", 's=\"Hello\"\\nfor z in s:\\n    print(ord(z))', \"print(bytes(5))\\nimport sys \\nprint(sys.getsizeof(bytes(5)))\\nb=b'Hello'\\nprint(b)\\nb2=bytes([72,101,108,108,111])\", \"print(bytes(5))\\nimport sys \\nprint(sys.getsizeof(bytes(5)))\\nb=b'Hello'\\nprint(b)\\nb2=bytes([72,101,108,108,111])\\nprint(b2)\", 's=\"Arjun\"\\nprint(s[::-1])', 's=\"Arjun\"\\nprint(s[::-1])\\nprint(s)', 's=\"Arjun\"\\nprint(s[::-1])\\nprint(s)\\ndata=bytearray([72,101,108,108,111])\\nprint(data)', 's=\"Arjun\"\\nprint(s[::-1])\\nprint(s)\\ndata=bytearray([72,101,108,108,111])\\nprint(data)\\nmv=data', 's=\"Arjun\"\\nprint(s[::-1])\\nprint(s)\\ndata=bytearray([72,101,108,108,111])\\nprint(data)\\nmv=memoryview(data)\\nprint(mv[::-1])\\nprint(data,mv)', 's=\"Arjun\"\\nprint(s[::-1])\\nprint(s)\\ndata=bytearray([int(72),101,108,108,111])\\nprint(data)\\nmv=memoryview(data)\\nprint(mv[::-1])\\nprint(data,mv)', 's=\"Arjun\"\\nprint(s[::-1])\\nprint(s)\\ndata=bytearray([72,101,108,108,111])\\nprint(data)\\nmv=memoryview(data)\\ns2=mv[::-1]\\nprint(s2)\\nprint(data,mv)', 's=\"Arjun\"\\nprint(s[::-1])\\nprint(s)\\ndata=bytearray([72,101,108,108,111])\\nprint(data)\\nmv=memoryview(data)\\ns2=mv[::-1]\\nprint(list(s2))\\nprint(data,mv)', 's=\"Arjun\"\\nprint(s[::-1])\\nprint(s)\\ndata=bytearray([72,101,108,108,111])\\nprint(data)\\nmv1=memoryview(data)\\nmv1[0]=73\\nmv=memoryview(data)\\ns2=mv[::-1]\\nprint(list(s2))\\nprint(data,mv)', 'bytes([[1,3]])', 'bytes(\"Arjun\")', 'bytes((1,3))', 'bytes([(1,3)])', \"b'(1,3)'\", \"type(b'(1,3)')\", \"b'(1,3)'\", \"b=b'(1,3)'\\nprint(b[0])\", \"b=b'(1,3)'\\nprint(b[1])\", \"b=b'(1,3)'\\nprint(b[2])\", \"b=b'(1,3)'\\nprint(b[4])\", \"b=b'(1,3)'\\nprint(b[5])\", \"b=b'(1,3)'\\nprint(b[4])\", \"ord(')')\", 'a=10\\nb=a\\nimport sys\\nprint(sys.getrefcount(10))', 'a=10\\nb=a\\nimport sys\\nprint(sys.getrefcount(a))', 'a=10\\nb=a\\nimport sys\\nprint(sys.getrefcount(10))', 'a=191\\nb=a\\nimport sys\\nprint(sys.getrefcount(191))', 'import sys\\na=[1,2,4,5]\\nprint(sys.getrefcount([1,2,4,5]))', 'import sys\\na=[1,2,4,5]\\nprint(sys.getrefcount([1,2,4,5]))\\nb=a\\nprint(sys.getrefcount([1,2,4,5]))', 'import sys\\na=[1,2,4,5]\\nprint(sys.getrefcount([1,2,4,5]))\\nb=a\\nprint(b)\\nprint(sys.getrefcount([1,2,4,5]))', 'import sys\\na=[1,2,4,5]\\nprint(sys.getrefcount([1,2,4,5]))\\nb=a\\nprint(a)\\nprint(sys.getrefcount([1,2,4,5]))', 'import sys\\na=[1,2,4,5]\\nprint(sys.getrefcount(a))\\nb=a\\nprint(sys.getrefcount([1,2,4,5]))', 'import sys\\na=[1,2,4,5]\\nprint(sys.getrefcount(a))\\nb=a\\nprint(sys.getrefcount(a))', 'import sys\\na=[1,2,4,5]\\nprint(sys.getrefcount(a))\\nb=a\\nprint(sys.getrefcount(a))\\ndel b\\nprint(sys.getrefcount(a))', 'import sys\\na=[1,2,4,5]\\nprint(sys.getrefcount(a))\\nb=a\\nprint(sys.getrefcount(a))\\ndel b\\nprint(sys.getrefcount(a))\\ndel a\\nprint(sys.getrefcount(a))', 'import sys\\na=[1,2,4,5]\\nprint(sys.getrefcount(a))\\nb=a\\nprint(sys.getrefcount(a))\\ndel b\\nprint(sys.getrefcount(a))\\ndel a\\nprint(sys.getrefcount([1,2,4,5]))', 'import sys\\na=[1,2,4,5]\\nprint(sys.getrefcount(a))\\nb=a\\nprint(sys.getrefcount(a))\\ndel b\\nprint(sys.getrefcount(a))\\ndel a\\ndel [1,2,4,5]\\nprint(sys.getrefcount([1,2,4,5]))', 'import sys\\na=[1,2,4,5]\\nprint(sys.getrefcount(a))\\nb=a\\nprint(sys.getrefcount(a))\\ndel b\\nprint(sys.getrefcount(a))\\ndel a\\nprint(sys.getrefcount([1,2,4,5]))', 'import sys\\na=[1,2,4,5]\\nprint(sys.getrefcount(a))\\nb=a\\nprint(sys.getrefcount(a))\\ndel b\\nprint(sys.getrefcount(a))\\ndel a', 'a=[]\\nb=[a]\\na.append(b)', 'x = 10  # Global namespace\\n\\ndef foo():\\n    y = 20  # Local namespace\\n    print(x, y)\\n\\nfoo()\\nprint(x)  # Accessible\\n# print(y)  # Error: y is not defined', 'x = 10  # Global namespace\\n\\ndef foo():\\n    y = 20  # Local namespace\\n    print(x, y)\\n\\nfoo()\\nprint(x)  # Accessible\\nprint(y)  # Error: y is not defined', 'print(dir())', 'print(globals())'], '_oh': {51: 72, 66: b'\\x01\\x03', 68: b'(1,3)', 69: <class 'bytes'>, 70: b'(1,3)', 77: 41}, '_dh': [WindowsPath('d:/Desktop/Python_Programs/Lesson 2 DataTypes')], 'In': ['', '# Code to print Keywords from keyword module\\nfrom keyword import kwlist as k\\nprint(k)', '# Code to print Keywords from keyword module\\nfrom keyword import kwlist as k\\nprint(k)\\nprint(f\"No. of keywords in Python:{len(k)}\")', '# Code to print Keywords from keyword module\\nfrom keyword import kwlist as k\\nprint(k)\\nprint(f\"No. of keywords in Python:{len(k)}\")', '# Code to print Keywords from keyword module\\nfrom keyword import kwlist as k\\nprint(k)\\nprint(f\"No. of keywords in Python:{len(k)}\")', '# Code to print Keywords from keyword module\\nfrom keyword import kwlist as k\\nprint(k)\\nprint()\\nprint(f\"No. of keywords in Python:{len(k)}\")', '# Name error if keywords used as variable name\\nif=10', '# Identifiers\\n\\nnum1=10 # int object \\ndef greet(s): # function object named:greet\\n    print(f\"Hello {s}!\")\\n\\ngreet(\"Arjun\")', '# Identifiers\\n\\nnum1=10 # int object \\ndef greet(s): # function object named:greet\\n    print(f\"Hello {s}!\")\\n\\ngreet(\"Arjun\")\\n123_name=19', '# Identifiers\\n\\nnum1=10 # int object \\ndef greet(s): # function object named:greet\\n    print(f\"Hello {s}!\")\\n\\ngreet(\"Arjun\")', '# Identifiers\\n\\nnum1=10 # int object \\ndef greet(s): # function object named:greet\\n    print(f\"Hello {s}!\")\\n\\ngreet(\"Arjun\")', 'var_name=10\\nvar_name1=11.92\\nprint(f\"var_name type:{type(var_name)}\\\\n var_name1 type:{type(var_name1)}\")\\nprint(f\"Address of var_name:{id(var_name)}\")', 'var_name=10\\nvar_name1=11.92\\nprint(f\"var_name type:{type(var_name)}\\\\n var_name1 type:{type(var_name1)}\")\\nprint(f\"Address of var_name:{hex(id(var_name))}\")', '# Interning (Caching)\\na=8\\nb=8\\nprint(f\"Interning of instance object 8:{a is b}\")', '# Interning (Caching)\\na=8\\nb=8\\nprint(f\"Interning of instance object 8:{a is b}\")\\nc=257\\nd=257\\nprint(f\"Does the interning range(-5,256) is strinct:{c is d}\")', '# Interning (Caching)\\na=8\\nb=8\\nprint(f\"Interning of instance object 8:{a is b}\")\\nc=257\\nd=257\\nprint(f\"Does the interning range(-5,256) is strinct: Check c is d:{c is d}\")', 'from sys import getsizeof as gs\\nint_val=10\\nfloat_val=30\\nprint(f\"Float size:{gs(float_val)}\")\\nprint(f\"Int size:{gs(int_val)}\")', 'from sys import getsizeof as gs\\nint_val=10\\nfloat_val=30.9303\\nprint(f\"Float size:{gs(float_val)}\")\\nprint(f\"Int size:{gs(int_val)}\")', 'from sys import getsizeof as gs\\nint_val=10\\nfloat_val=30.93038494839\\nprint(f\"Float size:{gs(float_val)}\")\\nprint(f\"Int size:{gs(int_val)}\")', '# Memory Mangement in Python\\n    # Python stores instance object in PHS(Private Heap Space) and their reference variable(Identifier) in Namepace(Stack)\\n\\na=892\\nb=892\\nprint(a is b)', '# Memory Mangement in Python\\n    # Python stores instance object in PHS(Private Heap Space) and their reference variable(Identifier) in Namepace(Stack)\\n\\na=892\\nb=892\\nprint(a is b)\\nimport sys\\nprintf(f\"Reference Count of \\'892\\' is {sys.getrefcount(892)}\")', '# Memory Mangement in Python\\n    # Python stores instance object in PHS(Private Heap Space) and their reference variable(Identifier) in Namepace(Stack)\\n\\na=892\\nb=892\\nprint(a is b)\\nimport sys\\nprint(f\"Reference Count of \\'892\\' is {sys.getrefcount(892)}\")', '# Memory Mangement in Python\\n    # Python stores instance object in PHS(Private Heap Space) and their reference variable(Identifier) in Namepace(Stack)\\n\\na=892\\nb=892\\nprint(a is b)\\nimport sys\\nprint(f\"Reference Count of \\'892\\' is {sys.getrefcount(892)}\")\\nprint(id(892))', '# Memory Mangement in Python\\n    # Python stores instance object in PHS(Private Heap Space) and their reference variable(Identifier) in Namepace(Stack)\\n\\na=892\\nb=892\\nprint(a is b)\\nimport sys\\nprint(f\"Reference Count of \\'892\\' is {sys.getrefcount(892)}\")\\nprint(id(892))\\nprint(id(a))', '# Memory Mangement in Python\\n    # Python stores instance object in PHS(Private Heap Space) and their reference variable(Identifier) in Namepace(Stack)\\n\\na=892\\nb=892\\nprint(a is b)\\nimport sys\\nprint(f\"Reference Count of \\'892\\' is {sys.getrefcount(892)}\")\\nprint(id(892))\\nprint(id(a))\\nprint(id(b))', 't1=(1,4.2,True,\"Arjun\",[1,24])', 't1=(1,4.2,True,\"Arjun\",[1,24])\\nprint(t1)', 't1=(1,4.2,True,\"Arjun\",[1,24])\\nprint(t1)\\nprint(type(t1))', 't1=(1,4.2,True,\"Arjun\",[1,24])\\nprint(t1)\\nprint(type(t1))\\nt1[4].append(7)', 't1=(1,4.2,True,\"Arjun\",[1,24])\\nprint(t1)\\nprint(type(t1))\\nt1[4].append(7)\\nprint(t1)', 't1=(1,4.2,True,\"Arjun\",[1,24])\\nprint(t1)\\nprint(type(t1))\\nt1[4].append(7) # List can be part of a tuple and behave as normal list\\nprint(t1)\\nt1.append(4)', 'd1={1:\"Arjun\",2:\"Ashish\",3:\"Bhoumik\"}\\nprint(d1)\\n# Dictionary is mutable\\nd1[4]=\"Abhishek\"\\nprint(d1)', 's1=frozenset({1,3.48,[1,4]})', 's1=frozenset({1,3.48,[1,4]})\\n{1,4,[1,3]}', '{1,4,[1,3]}', '{1,4,{1:\"Arjun\"}}', 's1=frozenset({1,3.48,(1,3)})', 's1=frozenset({1,3.48,(1,3)})\\nprint(type(s1))', 's1=frozenset({1,3.48,(1,3)})\\ns2=frozenset((1,4,828))\\nprint(type(s1))\\nprint(type(s2))', 's1=frozenset({1,3.48,(1,3)})\\ns2=frozenset((1,4,828))\\ns3=frozenset({1:\"Arjun\"})\\nprint(type(s1))\\nprint(type(s2))', 's1=frozenset({1,3.48,(1,3)})\\ns2=frozenset((1,4,828))\\ns3=frozenset({1:\"Arjun\"})\\nprint(type(s1))\\nprint(type(s2))\\nprint(s3)', 's1=frozenset({1,3.48,(1,3)})\\ns2=frozenset((1,4,828))\\ns3=frozenset({1:\"Arjun\"})\\nprint(type(s1))\\nprint(type(s2))\\nprint(s3)\\nprint(s2)', 's1=frozenset({1,3.48,(1,3)})\\ns2=frozenset((1,4,828))\\ns3=frozenset({1:\"Arjun\"})\\nprint(type(s1))\\nprint(type(s2))\\nprint(s3)\\nprint(s2)\\nprint(s1)', 's1=frozenset({1,3.48,(1,3)})\\ns2=frozenset((1,4,828))\\ns3=frozenset({1:\"Arjun\",2:\"Ashish\"}) # Frozenset is taking only key value\\nprint(type(s1))\\nprint(type(s2))\\nprint(s3)\\nprint(s2)\\nprint(s1)', 's1=frozenset({1,3.48,(1,3)})\\ns2=frozenset((1,4,828))\\ns3=frozenset({1:\"Arjun\",2:\"Ashish\"}) # Frozenset is taking only key value\\ns4=frozenset([1,\"Arjun\",[1,3]])\\nprint(type(s1))\\nprint(type(s2))\\nprint(s3)\\nprint(s2)\\nprint(s1)', 's1=frozenset({1,3.48,(1,3)})\\ns2=frozenset((1,4,828))\\ns3=frozenset({1:\"Arjun\",2:\"Ashish\"}) # Frozenset is taking only key value\\ns4=frozenset([1,\"Arjun\")\\nprint(type(s1))\\nprint(type(s2))\\nprint(s3)\\nprint(s2)\\nprint(s1)', 's1=frozenset({1,3.48,(1,3)})\\ns2=frozenset((1,4,828))\\ns3=frozenset({1:\"Arjun\",2:\"Ashish\"}) # Frozenset is taking only key value\\ns4=frozenset([1,\"Arjun\"])\\nprint(type(s1))\\nprint(type(s2))\\nprint(s3)\\nprint(s2)\\nprint(s1)', 's1=frozenset({1,3.48,(1,3)})\\ns2=frozenset((1,4,828))\\ns3=frozenset({1:\"Arjun\",2:\"Ashish\"}) # Frozenset is taking only key value\\ns4=frozenset([1,\"Arjun\"])\\nprint(type(s1))\\nprint(type(s2))\\nprint(s3)\\nprint(s2)\\nprint(s1)\\nprint(s4)', 'print(bytes(5))', 'print(bytes(5))\\nimport sys \\nprint(sys.getsizeof(bytes(5)))', \"print(bytes(5))\\nimport sys \\nprint(sys.getsizeof(bytes(5)))\\nb=b'Hello'\\nprint(b)\", \"ord('H')\", 's=\"Hello\"\\nfor z in s:\\n    print(ord(z))', \"print(bytes(5))\\nimport sys \\nprint(sys.getsizeof(bytes(5)))\\nb=b'Hello'\\nprint(b)\\nb2=bytes([72,101,108,108,111])\", \"print(bytes(5))\\nimport sys \\nprint(sys.getsizeof(bytes(5)))\\nb=b'Hello'\\nprint(b)\\nb2=bytes([72,101,108,108,111])\\nprint(b2)\", 's=\"Arjun\"\\nprint(s[::-1])', 's=\"Arjun\"\\nprint(s[::-1])\\nprint(s)', 's=\"Arjun\"\\nprint(s[::-1])\\nprint(s)\\ndata=bytearray([72,101,108,108,111])\\nprint(data)', 's=\"Arjun\"\\nprint(s[::-1])\\nprint(s)\\ndata=bytearray([72,101,108,108,111])\\nprint(data)\\nmv=data', 's=\"Arjun\"\\nprint(s[::-1])\\nprint(s)\\ndata=bytearray([72,101,108,108,111])\\nprint(data)\\nmv=memoryview(data)\\nprint(mv[::-1])\\nprint(data,mv)', 's=\"Arjun\"\\nprint(s[::-1])\\nprint(s)\\ndata=bytearray([int(72),101,108,108,111])\\nprint(data)\\nmv=memoryview(data)\\nprint(mv[::-1])\\nprint(data,mv)', 's=\"Arjun\"\\nprint(s[::-1])\\nprint(s)\\ndata=bytearray([72,101,108,108,111])\\nprint(data)\\nmv=memoryview(data)\\ns2=mv[::-1]\\nprint(s2)\\nprint(data,mv)', 's=\"Arjun\"\\nprint(s[::-1])\\nprint(s)\\ndata=bytearray([72,101,108,108,111])\\nprint(data)\\nmv=memoryview(data)\\ns2=mv[::-1]\\nprint(list(s2))\\nprint(data,mv)', 's=\"Arjun\"\\nprint(s[::-1])\\nprint(s)\\ndata=bytearray([72,101,108,108,111])\\nprint(data)\\nmv1=memoryview(data)\\nmv1[0]=73\\nmv=memoryview(data)\\ns2=mv[::-1]\\nprint(list(s2))\\nprint(data,mv)', 'bytes([[1,3]])', 'bytes(\"Arjun\")', 'bytes((1,3))', 'bytes([(1,3)])', \"b'(1,3)'\", \"type(b'(1,3)')\", \"b'(1,3)'\", \"b=b'(1,3)'\\nprint(b[0])\", \"b=b'(1,3)'\\nprint(b[1])\", \"b=b'(1,3)'\\nprint(b[2])\", \"b=b'(1,3)'\\nprint(b[4])\", \"b=b'(1,3)'\\nprint(b[5])\", \"b=b'(1,3)'\\nprint(b[4])\", \"ord(')')\", 'a=10\\nb=a\\nimport sys\\nprint(sys.getrefcount(10))', 'a=10\\nb=a\\nimport sys\\nprint(sys.getrefcount(a))', 'a=10\\nb=a\\nimport sys\\nprint(sys.getrefcount(10))', 'a=191\\nb=a\\nimport sys\\nprint(sys.getrefcount(191))', 'import sys\\na=[1,2,4,5]\\nprint(sys.getrefcount([1,2,4,5]))', 'import sys\\na=[1,2,4,5]\\nprint(sys.getrefcount([1,2,4,5]))\\nb=a\\nprint(sys.getrefcount([1,2,4,5]))', 'import sys\\na=[1,2,4,5]\\nprint(sys.getrefcount([1,2,4,5]))\\nb=a\\nprint(b)\\nprint(sys.getrefcount([1,2,4,5]))', 'import sys\\na=[1,2,4,5]\\nprint(sys.getrefcount([1,2,4,5]))\\nb=a\\nprint(a)\\nprint(sys.getrefcount([1,2,4,5]))', 'import sys\\na=[1,2,4,5]\\nprint(sys.getrefcount(a))\\nb=a\\nprint(sys.getrefcount([1,2,4,5]))', 'import sys\\na=[1,2,4,5]\\nprint(sys.getrefcount(a))\\nb=a\\nprint(sys.getrefcount(a))', 'import sys\\na=[1,2,4,5]\\nprint(sys.getrefcount(a))\\nb=a\\nprint(sys.getrefcount(a))\\ndel b\\nprint(sys.getrefcount(a))', 'import sys\\na=[1,2,4,5]\\nprint(sys.getrefcount(a))\\nb=a\\nprint(sys.getrefcount(a))\\ndel b\\nprint(sys.getrefcount(a))\\ndel a\\nprint(sys.getrefcount(a))', 'import sys\\na=[1,2,4,5]\\nprint(sys.getrefcount(a))\\nb=a\\nprint(sys.getrefcount(a))\\ndel b\\nprint(sys.getrefcount(a))\\ndel a\\nprint(sys.getrefcount([1,2,4,5]))', 'import sys\\na=[1,2,4,5]\\nprint(sys.getrefcount(a))\\nb=a\\nprint(sys.getrefcount(a))\\ndel b\\nprint(sys.getrefcount(a))\\ndel a\\ndel [1,2,4,5]\\nprint(sys.getrefcount([1,2,4,5]))', 'import sys\\na=[1,2,4,5]\\nprint(sys.getrefcount(a))\\nb=a\\nprint(sys.getrefcount(a))\\ndel b\\nprint(sys.getrefcount(a))\\ndel a\\nprint(sys.getrefcount([1,2,4,5]))', 'import sys\\na=[1,2,4,5]\\nprint(sys.getrefcount(a))\\nb=a\\nprint(sys.getrefcount(a))\\ndel b\\nprint(sys.getrefcount(a))\\ndel a', 'a=[]\\nb=[a]\\na.append(b)', 'x = 10  # Global namespace\\n\\ndef foo():\\n    y = 20  # Local namespace\\n    print(x, y)\\n\\nfoo()\\nprint(x)  # Accessible\\n# print(y)  # Error: y is not defined', 'x = 10  # Global namespace\\n\\ndef foo():\\n    y = 20  # Local namespace\\n    print(x, y)\\n\\nfoo()\\nprint(x)  # Accessible\\nprint(y)  # Error: y is not defined', 'print(dir())', 'print(globals())'], 'Out': {51: 72, 66: b'\\x01\\x03', 68: b'(1,3)', 69: <class 'bytes'>, 70: b'(1,3)', 77: 41}, 'get_ipython': <bound method InteractiveShell.get_ipython of <ipykernel.zmqshell.ZMQInteractiveShell object at 0x0000012634E17380>>, 'exit': <IPython.core.autocall.ZMQExitAutocall object at 0x0000012634EA0AD0>, 'quit': <IPython.core.autocall.ZMQExitAutocall object at 0x0000012634EA0AD0>, 'open': <function open at 0x0000012632B44180>, '_': 41, '__': b'(1,3)', '___': <class 'bytes'>, '__vsc_ipynb_file__': 'd:\\\\Desktop\\\\Python_Programs\\\\Lesson 2 DataTypes\\\\lesson_2.ipynb', '_i': 'print(dir())', '_ii': 'x = 10  # Global namespace\\n\\ndef foo():\\n    y = 20  # Local namespace\\n    print(x, y)\\n\\nfoo()\\nprint(x)  # Accessible\\nprint(y)  # Error: y is not defined', '_iii': 'x = 10  # Global namespace\\n\\ndef foo():\\n    y = 20  # Local namespace\\n    print(x, y)\\n\\nfoo()\\nprint(x)  # Accessible\\n# print(y)  # Error: y is not defined', '_i1': '# Code to print Keywords from keyword module\\nfrom keyword import kwlist as k\\nprint(k)', 'k': ['False', 'None', 'True', 'and', 'as', 'assert', 'async', 'await', 'break', 'class', 'continue', 'def', 'del', 'elif', 'else', 'except', 'finally', 'for', 'from', 'global', 'if', 'import', 'in', 'is', 'lambda', 'nonlocal', 'not', 'or', 'pass', 'raise', 'return', 'try', 'while', 'with', 'yield'], '_i2': '# Code to print Keywords from keyword module\\nfrom keyword import kwlist as k\\nprint(k)\\nprint(f\"No. of keywords in Python:{len(k)}\")', '_i3': '# Code to print Keywords from keyword module\\nfrom keyword import kwlist as k\\nprint(k)\\nprint(f\"No. of keywords in Python:{len(k)}\")', '_i4': '# Code to print Keywords from keyword module\\nfrom keyword import kwlist as k\\nprint(k)\\nprint(f\"No. of keywords in Python:{len(k)}\")', '_i5': '# Code to print Keywords from keyword module\\nfrom keyword import kwlist as k\\nprint(k)\\nprint()\\nprint(f\"No. of keywords in Python:{len(k)}\")', '_i6': '# Name error if keywords used as variable name\\nif=10', '_i7': '# Identifiers\\n\\nnum1=10 # int object \\ndef greet(s): # function object named:greet\\n    print(f\"Hello {s}!\")\\n\\ngreet(\"Arjun\")', 'num1': 10, 'greet': <function greet at 0x000001263515F1A0>, '_i8': '# Identifiers\\n\\nnum1=10 # int object \\ndef greet(s): # function object named:greet\\n    print(f\"Hello {s}!\")\\n\\ngreet(\"Arjun\")\\n123_name=19', '_i9': '# Identifiers\\n\\nnum1=10 # int object \\ndef greet(s): # function object named:greet\\n    print(f\"Hello {s}!\")\\n\\ngreet(\"Arjun\")', '_i10': '# Identifiers\\n\\nnum1=10 # int object \\ndef greet(s): # function object named:greet\\n    print(f\"Hello {s}!\")\\n\\ngreet(\"Arjun\")', '_i11': 'var_name=10\\nvar_name1=11.92\\nprint(f\"var_name type:{type(var_name)}\\\\n var_name1 type:{type(var_name1)}\")\\nprint(f\"Address of var_name:{id(var_name)}\")', 'var_name': 10, 'var_name1': 11.92, '_i12': 'var_name=10\\nvar_name1=11.92\\nprint(f\"var_name type:{type(var_name)}\\\\n var_name1 type:{type(var_name1)}\")\\nprint(f\"Address of var_name:{hex(id(var_name))}\")', '_i13': '# Interning (Caching)\\na=8\\nb=8\\nprint(f\"Interning of instance object 8:{a is b}\")', '_i14': '# Interning (Caching)\\na=8\\nb=8\\nprint(f\"Interning of instance object 8:{a is b}\")\\nc=257\\nd=257\\nprint(f\"Does the interning range(-5,256) is strinct:{c is d}\")', 'c': 257, 'd': 257, '_i15': '# Interning (Caching)\\na=8\\nb=8\\nprint(f\"Interning of instance object 8:{a is b}\")\\nc=257\\nd=257\\nprint(f\"Does the interning range(-5,256) is strinct: Check c is d:{c is d}\")', '_i16': 'from sys import getsizeof as gs\\nint_val=10\\nfloat_val=30\\nprint(f\"Float size:{gs(float_val)}\")\\nprint(f\"Int size:{gs(int_val)}\")', 'gs': <built-in function getsizeof>, 'int_val': 10, 'float_val': 30.93038494839, '_i17': 'from sys import getsizeof as gs\\nint_val=10\\nfloat_val=30.9303\\nprint(f\"Float size:{gs(float_val)}\")\\nprint(f\"Int size:{gs(int_val)}\")', '_i18': 'from sys import getsizeof as gs\\nint_val=10\\nfloat_val=30.93038494839\\nprint(f\"Float size:{gs(float_val)}\")\\nprint(f\"Int size:{gs(int_val)}\")', '_i19': '# Memory Mangement in Python\\n    # Python stores instance object in PHS(Private Heap Space) and their reference variable(Identifier) in Namepace(Stack)\\n\\na=892\\nb=892\\nprint(a is b)', '_i20': '# Memory Mangement in Python\\n    # Python stores instance object in PHS(Private Heap Space) and their reference variable(Identifier) in Namepace(Stack)\\n\\na=892\\nb=892\\nprint(a is b)\\nimport sys\\nprintf(f\"Reference Count of \\'892\\' is {sys.getrefcount(892)}\")', 'sys': <module 'sys' (built-in)>, '_i21': '# Memory Mangement in Python\\n    # Python stores instance object in PHS(Private Heap Space) and their reference variable(Identifier) in Namepace(Stack)\\n\\na=892\\nb=892\\nprint(a is b)\\nimport sys\\nprint(f\"Reference Count of \\'892\\' is {sys.getrefcount(892)}\")', '_i22': '# Memory Mangement in Python\\n    # Python stores instance object in PHS(Private Heap Space) and their reference variable(Identifier) in Namepace(Stack)\\n\\na=892\\nb=892\\nprint(a is b)\\nimport sys\\nprint(f\"Reference Count of \\'892\\' is {sys.getrefcount(892)}\")\\nprint(id(892))', '_i23': '# Memory Mangement in Python\\n    # Python stores instance object in PHS(Private Heap Space) and their reference variable(Identifier) in Namepace(Stack)\\n\\na=892\\nb=892\\nprint(a is b)\\nimport sys\\nprint(f\"Reference Count of \\'892\\' is {sys.getrefcount(892)}\")\\nprint(id(892))\\nprint(id(a))', '_i24': '# Memory Mangement in Python\\n    # Python stores instance object in PHS(Private Heap Space) and their reference variable(Identifier) in Namepace(Stack)\\n\\na=892\\nb=892\\nprint(a is b)\\nimport sys\\nprint(f\"Reference Count of \\'892\\' is {sys.getrefcount(892)}\")\\nprint(id(892))\\nprint(id(a))\\nprint(id(b))', '_i25': 't1=(1,4.2,True,\"Arjun\",[1,24])', 't1': (1, 4.2, True, 'Arjun', [1, 24, 7]), '_i26': 't1=(1,4.2,True,\"Arjun\",[1,24])\\nprint(t1)', '_i27': 't1=(1,4.2,True,\"Arjun\",[1,24])\\nprint(t1)\\nprint(type(t1))', '_i28': 't1=(1,4.2,True,\"Arjun\",[1,24])\\nprint(t1)\\nprint(type(t1))\\nt1[4].append(7)', '_i29': 't1=(1,4.2,True,\"Arjun\",[1,24])\\nprint(t1)\\nprint(type(t1))\\nt1[4].append(7)\\nprint(t1)', '_i30': 't1=(1,4.2,True,\"Arjun\",[1,24])\\nprint(t1)\\nprint(type(t1))\\nt1[4].append(7) # List can be part of a tuple and behave as normal list\\nprint(t1)\\nt1.append(4)', '_i31': 'd1={1:\"Arjun\",2:\"Ashish\",3:\"Bhoumik\"}\\nprint(d1)\\n# Dictionary is mutable\\nd1[4]=\"Abhishek\"\\nprint(d1)', 'd1': {1: 'Arjun', 2: 'Ashish', 3: 'Bhoumik', 4: 'Abhishek'}, '_i32': 's1=frozenset({1,3.48,[1,4]})', '_i33': 's1=frozenset({1,3.48,[1,4]})\\n{1,4,[1,3]}', '_i34': '\\n{1,4,[1,3]}', '_i35': '\\n{1,4,{1:\"Arjun\"}}', '_i36': 's1=frozenset({1,3.48,(1,3)})', 's1': frozenset({1, 3.48, (1, 3)}), '_i37': 's1=frozenset({1,3.48,(1,3)})\\nprint(type(s1))', '_i38': 's1=frozenset({1,3.48,(1,3)})\\ns2=frozenset((1,4,828))\\nprint(type(s1))\\nprint(type(s2))', 's2': <memory at 0x0000012635644C40>, '_i39': 's1=frozenset({1,3.48,(1,3)})\\ns2=frozenset((1,4,828))\\ns3=frozenset({1:\"Arjun\"})\\nprint(type(s1))\\nprint(type(s2))', 's3': frozenset({1, 2}), '_i40': 's1=frozenset({1,3.48,(1,3)})\\ns2=frozenset((1,4,828))\\ns3=frozenset({1:\"Arjun\"})\\nprint(type(s1))\\nprint(type(s2))\\nprint(s3)', '_i41': 's1=frozenset({1,3.48,(1,3)})\\ns2=frozenset((1,4,828))\\ns3=frozenset({1:\"Arjun\"})\\nprint(type(s1))\\nprint(type(s2))\\nprint(s3)\\nprint(s2)', '_i42': 's1=frozenset({1,3.48,(1,3)})\\ns2=frozenset((1,4,828))\\ns3=frozenset({1:\"Arjun\"})\\nprint(type(s1))\\nprint(type(s2))\\nprint(s3)\\nprint(s2)\\nprint(s1)', '_i43': 's1=frozenset({1,3.48,(1,3)})\\ns2=frozenset((1,4,828))\\ns3=frozenset({1:\"Arjun\",2:\"Ashish\"}) # Frozenset is taking only key value\\nprint(type(s1))\\nprint(type(s2))\\nprint(s3)\\nprint(s2)\\nprint(s1)', '_i44': 's1=frozenset({1,3.48,(1,3)})\\ns2=frozenset((1,4,828))\\ns3=frozenset({1:\"Arjun\",2:\"Ashish\"}) # Frozenset is taking only key value\\ns4=frozenset([1,\"Arjun\",[1,3]])\\nprint(type(s1))\\nprint(type(s2))\\nprint(s3)\\nprint(s2)\\nprint(s1)', '_i45': 's1=frozenset({1,3.48,(1,3)})\\ns2=frozenset((1,4,828))\\ns3=frozenset({1:\"Arjun\",2:\"Ashish\"}) # Frozenset is taking only key value\\ns4=frozenset([1,\"Arjun\")\\nprint(type(s1))\\nprint(type(s2))\\nprint(s3)\\nprint(s2)\\nprint(s1)', '_i46': 's1=frozenset({1,3.48,(1,3)})\\ns2=frozenset((1,4,828))\\ns3=frozenset({1:\"Arjun\",2:\"Ashish\"}) # Frozenset is taking only key value\\ns4=frozenset([1,\"Arjun\"])\\nprint(type(s1))\\nprint(type(s2))\\nprint(s3)\\nprint(s2)\\nprint(s1)', 's4': frozenset({1, 'Arjun'}), '_i47': 's1=frozenset({1,3.48,(1,3)})\\ns2=frozenset((1,4,828))\\ns3=frozenset({1:\"Arjun\",2:\"Ashish\"}) # Frozenset is taking only key value\\ns4=frozenset([1,\"Arjun\"])\\nprint(type(s1))\\nprint(type(s2))\\nprint(s3)\\nprint(s2)\\nprint(s1)\\nprint(s4)', '_i48': 'print(bytes(5))', '_i49': 'print(bytes(5))\\nimport sys \\nprint(sys.getsizeof(bytes(5)))', '_i50': \"print(bytes(5))\\nimport sys \\nprint(sys.getsizeof(bytes(5)))\\nb=b'Hello'\\nprint(b)\", '_i51': \"ord('H')\", '_51': 72, '_i52': 's=\"Hello\"\\nfor z in s:\\n    print(ord(z))', 's': 'Arjun', 'z': 'o', '_i53': \"print(bytes(5))\\nimport sys \\nprint(sys.getsizeof(bytes(5)))\\nb=b'Hello'\\nprint(b)\\nb2=bytes([72,101,108,108,111])\", 'b2': b'Hello', '_i54': \"print(bytes(5))\\nimport sys \\nprint(sys.getsizeof(bytes(5)))\\nb=b'Hello'\\nprint(b)\\nb2=bytes([72,101,108,108,111])\\nprint(b2)\", '_i55': 's=\"Arjun\"\\nprint(s[::-1])', '_i56': 's=\"Arjun\"\\nprint(s[::-1])\\nprint(s)', '_i57': 's=\"Arjun\"\\nprint(s[::-1])\\nprint(s)\\ndata=bytearray([72,101,108,108,111])\\nprint(data)', 'data': bytearray(b'Iello'), '_i58': 's=\"Arjun\"\\nprint(s[::-1])\\nprint(s)\\ndata=bytearray([72,101,108,108,111])\\nprint(data)\\nmv=data', 'mv': <memory at 0x0000012635644B80>, '_i59': 's=\"Arjun\"\\nprint(s[::-1])\\nprint(s)\\ndata=bytearray([72,101,108,108,111])\\nprint(data)\\nmv=memoryview(data)\\nprint(mv[::-1])\\nprint(data,mv)', '_i60': 's=\"Arjun\"\\nprint(s[::-1])\\nprint(s)\\ndata=bytearray([int(72),101,108,108,111])\\nprint(data)\\nmv=memoryview(data)\\nprint(mv[::-1])\\nprint(data,mv)', '_i61': 's=\"Arjun\"\\nprint(s[::-1])\\nprint(s)\\ndata=bytearray([72,101,108,108,111])\\nprint(data)\\nmv=memoryview(data)\\ns2=mv[::-1]\\nprint(s2)\\nprint(data,mv)', '_i62': 's=\"Arjun\"\\nprint(s[::-1])\\nprint(s)\\ndata=bytearray([72,101,108,108,111])\\nprint(data)\\nmv=memoryview(data)\\ns2=mv[::-1]\\nprint(list(s2))\\nprint(data,mv)', '_i63': 's=\"Arjun\"\\nprint(s[::-1])\\nprint(s)\\ndata=bytearray([72,101,108,108,111])\\nprint(data)\\nmv1=memoryview(data)\\nmv1[0]=73\\nmv=memoryview(data)\\ns2=mv[::-1]\\nprint(list(s2))\\nprint(data,mv)', 'mv1': <memory at 0x0000012635644880>, '_i64': 'bytes([[1,3]])', '_i65': 'bytes(\"Arjun\")', '_i66': 'bytes((1,3))', '_66': b'\\x01\\x03', '_i67': 'bytes([(1,3)])', '_i68': \"b'(1,3)'\", '_68': b'(1,3)', '_i69': \"type(b'(1,3)')\", '_69': <class 'bytes'>, '_i70': \"b'(1,3)'\", '_70': b'(1,3)', '_i71': \"b=b'(1,3)'\\nprint(b[0])\", '_i72': \"b=b'(1,3)'\\nprint(b[1])\", '_i73': \"b=b'(1,3)'\\nprint(b[2])\", '_i74': \"b=b'(1,3)'\\nprint(b[4])\", '_i75': \"b=b'(1,3)'\\nprint(b[5])\", '_i76': \"b=b'(1,3)'\\nprint(b[4])\", '_i77': \"ord(')')\", '_77': 41, '_i78': 'a=10\\nb=a\\nimport sys\\nprint(sys.getrefcount(10))', '_i79': 'a=10\\nb=a\\nimport sys\\nprint(sys.getrefcount(a))', '_i80': 'a=10\\nb=a\\nimport sys\\nprint(sys.getrefcount(10))', '_i81': 'a=191\\nb=a\\nimport sys\\nprint(sys.getrefcount(191))', '_i82': 'import sys\\na=[1,2,4,5]\\nprint(sys.getrefcount([1,2,4,5]))', '_i83': 'import sys\\na=[1,2,4,5]\\nprint(sys.getrefcount([1,2,4,5]))\\nb=a\\nprint(sys.getrefcount([1,2,4,5]))', '_i84': 'import sys\\na=[1,2,4,5]\\nprint(sys.getrefcount([1,2,4,5]))\\nb=a\\nprint(b)\\nprint(sys.getrefcount([1,2,4,5]))', '_i85': 'import sys\\na=[1,2,4,5]\\nprint(sys.getrefcount([1,2,4,5]))\\nb=a\\nprint(a)\\nprint(sys.getrefcount([1,2,4,5]))', '_i86': 'import sys\\na=[1,2,4,5]\\nprint(sys.getrefcount(a))\\nb=a\\nprint(sys.getrefcount([1,2,4,5]))', '_i87': 'import sys\\na=[1,2,4,5]\\nprint(sys.getrefcount(a))\\nb=a\\nprint(sys.getrefcount(a))', '_i88': 'import sys\\na=[1,2,4,5]\\nprint(sys.getrefcount(a))\\nb=a\\nprint(sys.getrefcount(a))\\ndel b\\nprint(sys.getrefcount(a))', '_i89': 'import sys\\na=[1,2,4,5]\\nprint(sys.getrefcount(a))\\nb=a\\nprint(sys.getrefcount(a))\\ndel b\\nprint(sys.getrefcount(a))\\ndel a\\nprint(sys.getrefcount(a))', '_i90': 'import sys\\na=[1,2,4,5]\\nprint(sys.getrefcount(a))\\nb=a\\nprint(sys.getrefcount(a))\\ndel b\\nprint(sys.getrefcount(a))\\ndel a\\nprint(sys.getrefcount([1,2,4,5]))', '_i91': 'import sys\\na=[1,2,4,5]\\nprint(sys.getrefcount(a))\\nb=a\\nprint(sys.getrefcount(a))\\ndel b\\nprint(sys.getrefcount(a))\\ndel a\\ndel [1,2,4,5]\\nprint(sys.getrefcount([1,2,4,5]))', '_i92': 'import sys\\na=[1,2,4,5]\\nprint(sys.getrefcount(a))\\nb=a\\nprint(sys.getrefcount(a))\\ndel b\\nprint(sys.getrefcount(a))\\ndel a\\nprint(sys.getrefcount([1,2,4,5]))', '_i93': 'import sys\\na=[1,2,4,5]\\nprint(sys.getrefcount(a))\\nb=a\\nprint(sys.getrefcount(a))\\ndel b\\nprint(sys.getrefcount(a))\\ndel a', '_i94': 'a=[]\\nb=[a]\\na.append(b)', 'a': [[[...]]], 'b': [[[...]]], '_i95': 'x = 10  # Global namespace\\n\\ndef foo():\\n    y = 20  # Local namespace\\n    print(x, y)\\n\\nfoo()\\nprint(x)  # Accessible\\n# print(y)  # Error: y is not defined', 'x': 10, 'foo': <function foo at 0x0000012635799E40>, '_i96': 'x = 10  # Global namespace\\n\\ndef foo():\\n    y = 20  # Local namespace\\n    print(x, y)\\n\\nfoo()\\nprint(x)  # Accessible\\nprint(y)  # Error: y is not defined', '_i97': 'print(dir())', '_i98': 'print(globals())'}\n"
     ]
    }
   ],
   "source": [
    "print(globals())"
   ]
  },
  {
   "cell_type": "code",
   "execution_count": 101,
   "metadata": {},
   "outputs": [
    {
     "data": {
      "text/plain": [
       "['__abs__',\n",
       " '__add__',\n",
       " '__and__',\n",
       " '__bool__',\n",
       " '__ceil__',\n",
       " '__class__',\n",
       " '__delattr__',\n",
       " '__dir__',\n",
       " '__divmod__',\n",
       " '__doc__',\n",
       " '__eq__',\n",
       " '__float__',\n",
       " '__floor__',\n",
       " '__floordiv__',\n",
       " '__format__',\n",
       " '__ge__',\n",
       " '__getattribute__',\n",
       " '__getnewargs__',\n",
       " '__getstate__',\n",
       " '__gt__',\n",
       " '__hash__',\n",
       " '__index__',\n",
       " '__init__',\n",
       " '__init_subclass__',\n",
       " '__int__',\n",
       " '__invert__',\n",
       " '__le__',\n",
       " '__lshift__',\n",
       " '__lt__',\n",
       " '__mod__',\n",
       " '__mul__',\n",
       " '__ne__',\n",
       " '__neg__',\n",
       " '__new__',\n",
       " '__or__',\n",
       " '__pos__',\n",
       " '__pow__',\n",
       " '__radd__',\n",
       " '__rand__',\n",
       " '__rdivmod__',\n",
       " '__reduce__',\n",
       " '__reduce_ex__',\n",
       " '__repr__',\n",
       " '__rfloordiv__',\n",
       " '__rlshift__',\n",
       " '__rmod__',\n",
       " '__rmul__',\n",
       " '__ror__',\n",
       " '__round__',\n",
       " '__rpow__',\n",
       " '__rrshift__',\n",
       " '__rshift__',\n",
       " '__rsub__',\n",
       " '__rtruediv__',\n",
       " '__rxor__',\n",
       " '__setattr__',\n",
       " '__sizeof__',\n",
       " '__str__',\n",
       " '__sub__',\n",
       " '__subclasshook__',\n",
       " '__truediv__',\n",
       " '__trunc__',\n",
       " '__xor__',\n",
       " 'as_integer_ratio',\n",
       " 'bit_count',\n",
       " 'bit_length',\n",
       " 'conjugate',\n",
       " 'denominator',\n",
       " 'from_bytes',\n",
       " 'imag',\n",
       " 'is_integer',\n",
       " 'numerator',\n",
       " 'real',\n",
       " 'to_bytes']"
      ]
     },
     "execution_count": 101,
     "metadata": {},
     "output_type": "execute_result"
    }
   ],
   "source": [
    "dir(int)"
   ]
  },
  {
   "cell_type": "code",
   "execution_count": 18,
   "metadata": {},
   "outputs": [
    {
     "name": "stdout",
     "output_type": "stream",
     "text": [
      "local\n",
      "{'y': 'local'}\n",
      "{'y': 'enclosing', 'internal': <function external.<locals>.internal at 0x000001BE1F496C00>}\n",
      "enclosing\n",
      "global\n",
      "{'__name__': '__main__', '__doc__': 'Automatically created module for IPython interactive environment', '__package__': None, '__loader__': None, '__spec__': None, '__builtin__': <module 'builtins' (built-in)>, '__builtins__': <module 'builtins' (built-in)>, '_ih': ['', '# Interning (Caching)\\na=8\\nb=8\\nprint(f\"Interning of instance object 8:{a is b}\")\\nc=257\\nd=257\\nprint(f\"Does the interning range(-5,256) is strinct: Check c is d:{c is d}\")', '# Interning (Caching)\\na=8\\nb=8\\nprint(f\"Interning of instance object 8:{a is b}\")\\nc=255\\nd=255\\nprint(f\"Does the interning range(-5,256) is strinct: Check c is d:{c is d}\")', '# Interning (Caching)\\na=8\\nb=8\\nprint(f\"Interning of instance object 8:{a is b}\")\\nc=256\\nd=256\\nprint(f\"Does the interning range(-5,256) is strinct: Check c is d:{c is d}\")', '# Interning (Caching)\\na=8\\nb=8\\nprint(f\"Interning of instance object 8:{a is b}\")\\nc=256\\nd=256\\nprint(f\"Does the interning range(-5,256) is strinct: Check c is d:{c is d}\")', '# Interning (Caching)\\na=8\\nb=8\\nprint(f\"Interning of instance object 8:{a is b}\")\\nc=257\\nd=257\\nprint(f\"Does the interning range(-5,256) is strinct: Check c is d:{c is d}\")', '# Using sys module and getsizeof method to determine\\nfrom sys import getsizeof as gs\\nint_val=10\\nfloat_val=30.93038494839\\nprint(f\"Float size:{gs(float_val)}\")\\nprint(f\"Int size:{gs(int_val)}\")', 'import sys\\nnum=832\\nprint(f\"Reference count of {num}:{sys.getrefcount(num)}\")', 'import sys\\nnum=832\\nprint(f\"Reference count of {num}:{sys.getrefcount(832)}\")', 'import sys\\nnum=832\\nprint(f\"Reference count of {num}:{sys.getrefcount(832)}\")\\n# Here the reference count is 3 because object \\'832\\' is also getting temporary referred when passed to getrefcount function and the f-string function\\n\\n# Without f-string reference:\\nprint(sys.getrefcount(832))', '# Without f-string reference:\\nnum1=842\\nprint(sys.getrefcount(842))', \"y='global'\\ndef external():\\n    y='enclosing'\\n    def internal():\\n        y='local'\\n        print(y)\\n    internal()\\n    print(y)\\nprint(y)\", \"y='global'\\ndef external():\\n    y='enclosing'\\n    def internal():\\n        y='local'\\n        print(y)\\n    internal()\\n    print(y)\\nexternal()\\nprint(y)\", \"y='global'\\ndef external():\\n    y='enclosing'\\n    def internal():\\n        \\n        print(y)\\n    internal()\\n    print(y)\\nexternal()\\nprint(y)\", \"y='global'\\ndef external():\\n    y='enclosing'\\n    def internal():\\n        y='local'\\n        print(y)\\n    internal()\\n    print(y)\\nexternal()\\nprint(y)\", \"y='global'\\ndef external():\\n    #y='enclosing'\\n    def internal():\\n        #y='local'\\n        print(y)\\n    internal()\\n    print(y)\\nexternal()\\nprint(y)\", \"y='global'\\ndef external():\\n    y='enclosing'\\n    def internal():\\n        y='local'\\n        print(y)\\n        print(locals())\\n    internal()\\n    print(locals())\\n    print(y)\\nexternal()\\nprint(y)\\nprint(globals())\", \"y='global'\\ndef external():\\n    y='enclosing'\\n    def internal():\\n        y='local'\\n        print(y)\\n        print(locals())\\n    internal()\\n    print(locals())\\n    print(y)\\nexternal()\\nprint(y)\\nprint(globals())\\nprint(dir())\", \"y='global'\\ndef external():\\n    y='enclosing'\\n    def internal():\\n        y='local'\\n        print(y)\\n        print(locals())\\n    internal()\\n    print(locals())\\n    print(y)\\nexternal()\\nprint(y)\\nprint(globals())\\nprint(dir())\\nprint(dir(__builtins__))\"], '_oh': {}, '_dh': [WindowsPath('d:/Desktop/Python_Programs/Lesson 2 DataTypes')], 'In': ['', '# Interning (Caching)\\na=8\\nb=8\\nprint(f\"Interning of instance object 8:{a is b}\")\\nc=257\\nd=257\\nprint(f\"Does the interning range(-5,256) is strinct: Check c is d:{c is d}\")', '# Interning (Caching)\\na=8\\nb=8\\nprint(f\"Interning of instance object 8:{a is b}\")\\nc=255\\nd=255\\nprint(f\"Does the interning range(-5,256) is strinct: Check c is d:{c is d}\")', '# Interning (Caching)\\na=8\\nb=8\\nprint(f\"Interning of instance object 8:{a is b}\")\\nc=256\\nd=256\\nprint(f\"Does the interning range(-5,256) is strinct: Check c is d:{c is d}\")', '# Interning (Caching)\\na=8\\nb=8\\nprint(f\"Interning of instance object 8:{a is b}\")\\nc=256\\nd=256\\nprint(f\"Does the interning range(-5,256) is strinct: Check c is d:{c is d}\")', '# Interning (Caching)\\na=8\\nb=8\\nprint(f\"Interning of instance object 8:{a is b}\")\\nc=257\\nd=257\\nprint(f\"Does the interning range(-5,256) is strinct: Check c is d:{c is d}\")', '# Using sys module and getsizeof method to determine\\nfrom sys import getsizeof as gs\\nint_val=10\\nfloat_val=30.93038494839\\nprint(f\"Float size:{gs(float_val)}\")\\nprint(f\"Int size:{gs(int_val)}\")', 'import sys\\nnum=832\\nprint(f\"Reference count of {num}:{sys.getrefcount(num)}\")', 'import sys\\nnum=832\\nprint(f\"Reference count of {num}:{sys.getrefcount(832)}\")', 'import sys\\nnum=832\\nprint(f\"Reference count of {num}:{sys.getrefcount(832)}\")\\n# Here the reference count is 3 because object \\'832\\' is also getting temporary referred when passed to getrefcount function and the f-string function\\n\\n# Without f-string reference:\\nprint(sys.getrefcount(832))', '# Without f-string reference:\\nnum1=842\\nprint(sys.getrefcount(842))', \"y='global'\\ndef external():\\n    y='enclosing'\\n    def internal():\\n        y='local'\\n        print(y)\\n    internal()\\n    print(y)\\nprint(y)\", \"y='global'\\ndef external():\\n    y='enclosing'\\n    def internal():\\n        y='local'\\n        print(y)\\n    internal()\\n    print(y)\\nexternal()\\nprint(y)\", \"y='global'\\ndef external():\\n    y='enclosing'\\n    def internal():\\n        \\n        print(y)\\n    internal()\\n    print(y)\\nexternal()\\nprint(y)\", \"y='global'\\ndef external():\\n    y='enclosing'\\n    def internal():\\n        y='local'\\n        print(y)\\n    internal()\\n    print(y)\\nexternal()\\nprint(y)\", \"y='global'\\ndef external():\\n    #y='enclosing'\\n    def internal():\\n        #y='local'\\n        print(y)\\n    internal()\\n    print(y)\\nexternal()\\nprint(y)\", \"y='global'\\ndef external():\\n    y='enclosing'\\n    def internal():\\n        y='local'\\n        print(y)\\n        print(locals())\\n    internal()\\n    print(locals())\\n    print(y)\\nexternal()\\nprint(y)\\nprint(globals())\", \"y='global'\\ndef external():\\n    y='enclosing'\\n    def internal():\\n        y='local'\\n        print(y)\\n        print(locals())\\n    internal()\\n    print(locals())\\n    print(y)\\nexternal()\\nprint(y)\\nprint(globals())\\nprint(dir())\", \"y='global'\\ndef external():\\n    y='enclosing'\\n    def internal():\\n        y='local'\\n        print(y)\\n        print(locals())\\n    internal()\\n    print(locals())\\n    print(y)\\nexternal()\\nprint(y)\\nprint(globals())\\nprint(dir())\\nprint(dir(__builtins__))\"], 'Out': {}, 'get_ipython': <bound method InteractiveShell.get_ipython of <ipykernel.zmqshell.ZMQInteractiveShell object at 0x000001BE1F0B3380>>, 'exit': <IPython.core.autocall.ZMQExitAutocall object at 0x000001BE1F144AD0>, 'quit': <IPython.core.autocall.ZMQExitAutocall object at 0x000001BE1F144AD0>, 'open': <function open at 0x000001BE1CDD4180>, '_': '', '__': '', '___': '', '__vsc_ipynb_file__': 'd:\\\\Desktop\\\\Python_Programs\\\\Lesson 2 DataTypes\\\\lesson_2.ipynb', '_i': \"y='global'\\ndef external():\\n    y='enclosing'\\n    def internal():\\n        y='local'\\n        print(y)\\n        print(locals())\\n    internal()\\n    print(locals())\\n    print(y)\\nexternal()\\nprint(y)\\nprint(globals())\\nprint(dir())\", '_ii': \"y='global'\\ndef external():\\n    y='enclosing'\\n    def internal():\\n        y='local'\\n        print(y)\\n        print(locals())\\n    internal()\\n    print(locals())\\n    print(y)\\nexternal()\\nprint(y)\\nprint(globals())\", '_iii': \"y='global'\\ndef external():\\n    #y='enclosing'\\n    def internal():\\n        #y='local'\\n        print(y)\\n    internal()\\n    print(y)\\nexternal()\\nprint(y)\", '_i1': '# Interning (Caching)\\na=8\\nb=8\\nprint(f\"Interning of instance object 8:{a is b}\")\\nc=257\\nd=257\\nprint(f\"Does the interning range(-5,256) is strinct: Check c is d:{c is d}\")', 'a': 8, 'b': 8, 'c': 257, 'd': 257, '_i2': '# Interning (Caching)\\na=8\\nb=8\\nprint(f\"Interning of instance object 8:{a is b}\")\\nc=255\\nd=255\\nprint(f\"Does the interning range(-5,256) is strinct: Check c is d:{c is d}\")', '_i3': '# Interning (Caching)\\na=8\\nb=8\\nprint(f\"Interning of instance object 8:{a is b}\")\\nc=256\\nd=256\\nprint(f\"Does the interning range(-5,256) is strinct: Check c is d:{c is d}\")', '_i4': '# Interning (Caching)\\na=8\\nb=8\\nprint(f\"Interning of instance object 8:{a is b}\")\\nc=256\\nd=256\\nprint(f\"Does the interning range(-5,256) is strinct: Check c is d:{c is d}\")', '_i5': '# Interning (Caching)\\na=8\\nb=8\\nprint(f\"Interning of instance object 8:{a is b}\")\\nc=257\\nd=257\\nprint(f\"Does the interning range(-5,256) is strinct: Check c is d:{c is d}\")', '_i6': '# Using sys module and getsizeof method to determine\\nfrom sys import getsizeof as gs\\nint_val=10\\nfloat_val=30.93038494839\\nprint(f\"Float size:{gs(float_val)}\")\\nprint(f\"Int size:{gs(int_val)}\")', 'gs': <built-in function getsizeof>, 'int_val': 10, 'float_val': 30.93038494839, '_i7': 'import sys\\nnum=832\\nprint(f\"Reference count of {num}:{sys.getrefcount(num)}\")', 'sys': <module 'sys' (built-in)>, 'num': 832, '_i8': 'import sys\\nnum=832\\nprint(f\"Reference count of {num}:{sys.getrefcount(832)}\")', '_i9': 'import sys\\nnum=832\\nprint(f\"Reference count of {num}:{sys.getrefcount(832)}\")\\n# Here the reference count is 3 because object \\'832\\' is also getting temporary referred when passed to getrefcount function and the f-string function\\n\\n# Without f-string reference:\\nprint(sys.getrefcount(832))', '_i10': '# Without f-string reference:\\nnum1=842\\nprint(sys.getrefcount(842))', 'num1': 842, '_i11': \"y='global'\\ndef external():\\n    y='enclosing'\\n    def internal():\\n        y='local'\\n        print(y)\\n    internal()\\n    print(y)\\nprint(y)\", 'y': 'global', 'external': <function external at 0x000001BE1F496CA0>, '_i12': \"y='global'\\ndef external():\\n    y='enclosing'\\n    def internal():\\n        y='local'\\n        print(y)\\n    internal()\\n    print(y)\\nexternal()\\nprint(y)\", '_i13': \"y='global'\\ndef external():\\n    y='enclosing'\\n    def internal():\\n        \\n        print(y)\\n    internal()\\n    print(y)\\nexternal()\\nprint(y)\", '_i14': \"y='global'\\ndef external():\\n    y='enclosing'\\n    def internal():\\n        y='local'\\n        print(y)\\n    internal()\\n    print(y)\\nexternal()\\nprint(y)\", '_i15': \"y='global'\\ndef external():\\n    #y='enclosing'\\n    def internal():\\n        #y='local'\\n        print(y)\\n    internal()\\n    print(y)\\nexternal()\\nprint(y)\", '_i16': \"y='global'\\ndef external():\\n    y='enclosing'\\n    def internal():\\n        y='local'\\n        print(y)\\n        print(locals())\\n    internal()\\n    print(locals())\\n    print(y)\\nexternal()\\nprint(y)\\nprint(globals())\", '_i17': \"y='global'\\ndef external():\\n    y='enclosing'\\n    def internal():\\n        y='local'\\n        print(y)\\n        print(locals())\\n    internal()\\n    print(locals())\\n    print(y)\\nexternal()\\nprint(y)\\nprint(globals())\\nprint(dir())\", '_i18': \"y='global'\\ndef external():\\n    y='enclosing'\\n    def internal():\\n        y='local'\\n        print(y)\\n        print(locals())\\n    internal()\\n    print(locals())\\n    print(y)\\nexternal()\\nprint(y)\\nprint(globals())\\nprint(dir())\\nprint(dir(__builtins__))\"}\n",
      "['In', 'Out', '_', '__', '___', '__builtin__', '__builtins__', '__doc__', '__loader__', '__name__', '__package__', '__spec__', '__vsc_ipynb_file__', '_dh', '_i', '_i1', '_i10', '_i11', '_i12', '_i13', '_i14', '_i15', '_i16', '_i17', '_i18', '_i2', '_i3', '_i4', '_i5', '_i6', '_i7', '_i8', '_i9', '_ih', '_ii', '_iii', '_oh', 'a', 'b', 'c', 'd', 'exit', 'external', 'float_val', 'get_ipython', 'gs', 'int_val', 'num', 'num1', 'open', 'quit', 'sys', 'y']\n",
      "['ArithmeticError', 'AssertionError', 'AttributeError', 'BaseException', 'BaseExceptionGroup', 'BlockingIOError', 'BrokenPipeError', 'BufferError', 'BytesWarning', 'ChildProcessError', 'ConnectionAbortedError', 'ConnectionError', 'ConnectionRefusedError', 'ConnectionResetError', 'DeprecationWarning', 'EOFError', 'Ellipsis', 'EncodingWarning', 'EnvironmentError', 'Exception', 'ExceptionGroup', 'False', 'FileExistsError', 'FileNotFoundError', 'FloatingPointError', 'FutureWarning', 'GeneratorExit', 'IOError', 'ImportError', 'ImportWarning', 'IndentationError', 'IndexError', 'InterruptedError', 'IsADirectoryError', 'KeyError', 'KeyboardInterrupt', 'LookupError', 'MemoryError', 'ModuleNotFoundError', 'NameError', 'None', 'NotADirectoryError', 'NotImplemented', 'NotImplementedError', 'OSError', 'OverflowError', 'PendingDeprecationWarning', 'PermissionError', 'ProcessLookupError', 'PythonFinalizationError', 'RecursionError', 'ReferenceError', 'ResourceWarning', 'RuntimeError', 'RuntimeWarning', 'StopAsyncIteration', 'StopIteration', 'SyntaxError', 'SyntaxWarning', 'SystemError', 'SystemExit', 'TabError', 'TimeoutError', 'True', 'TypeError', 'UnboundLocalError', 'UnicodeDecodeError', 'UnicodeEncodeError', 'UnicodeError', 'UnicodeTranslateError', 'UnicodeWarning', 'UserWarning', 'ValueError', 'Warning', 'WindowsError', 'ZeroDivisionError', '_IncompleteInputError', '__IPYTHON__', '__build_class__', '__debug__', '__doc__', '__import__', '__loader__', '__name__', '__package__', '__spec__', 'abs', 'aiter', 'all', 'anext', 'any', 'ascii', 'bin', 'bool', 'breakpoint', 'bytearray', 'bytes', 'callable', 'chr', 'classmethod', 'compile', 'complex', 'copyright', 'credits', 'delattr', 'dict', 'dir', 'display', 'divmod', 'enumerate', 'eval', 'exec', 'execfile', 'filter', 'float', 'format', 'frozenset', 'get_ipython', 'getattr', 'globals', 'hasattr', 'hash', 'help', 'hex', 'id', 'input', 'int', 'isinstance', 'issubclass', 'iter', 'len', 'license', 'list', 'locals', 'map', 'max', 'memoryview', 'min', 'next', 'object', 'oct', 'open', 'ord', 'pow', 'print', 'property', 'range', 'repr', 'reversed', 'round', 'runfile', 'set', 'setattr', 'slice', 'sorted', 'staticmethod', 'str', 'sum', 'super', 'tuple', 'type', 'vars', 'zip']\n"
     ]
    }
   ],
   "source": [
    "y='global'\n",
    "def external():\n",
    "    y='enclosing'\n",
    "    def internal():\n",
    "        y='local'\n",
    "        print(y)\n",
    "        print(locals())\n",
    "    internal()\n",
    "    print(locals())\n",
    "    print(y)\n",
    "external()\n",
    "print(y)\n",
    "print(globals())\n",
    "print(dir())\n",
    "print(dir(__builtins__))"
   ]
  },
  {
   "cell_type": "code",
   "execution_count": 22,
   "metadata": {},
   "outputs": [
    {
     "name": "stdout",
     "output_type": "stream",
     "text": [
      "<class 'int'>\n",
      "['__abs__', '__add__', '__and__', '__bool__', '__ceil__', '__class__', '__delattr__', '__dir__', '__divmod__', '__doc__', '__eq__', '__float__', '__floor__', '__floordiv__', '__format__', '__ge__', '__getattribute__', '__getnewargs__', '__getstate__', '__gt__', '__hash__', '__index__', '__init__', '__init_subclass__', '__int__', '__invert__', '__le__', '__lshift__', '__lt__', '__mod__', '__mul__', '__ne__', '__neg__', '__new__', '__or__', '__pos__', '__pow__', '__radd__', '__rand__', '__rdivmod__', '__reduce__', '__reduce_ex__', '__repr__', '__rfloordiv__', '__rlshift__', '__rmod__', '__rmul__', '__ror__', '__round__', '__rpow__', '__rrshift__', '__rshift__', '__rsub__', '__rtruediv__', '__rxor__', '__setattr__', '__sizeof__', '__str__', '__sub__', '__subclasshook__', '__truediv__', '__trunc__', '__xor__', 'as_integer_ratio', 'bit_count', 'bit_length', 'conjugate', 'denominator', 'from_bytes', 'imag', 'is_integer', 'numerator', 'real', 'to_bytes']\n",
      "Hello\n",
      "<class 'function'>\n",
      "['__annotations__', '__builtins__', '__call__', '__class__', '__closure__', '__code__', '__defaults__', '__delattr__', '__dict__', '__dir__', '__doc__', '__eq__', '__format__', '__ge__', '__get__', '__getattribute__', '__getstate__', '__globals__', '__gt__', '__hash__', '__init__', '__init_subclass__', '__kwdefaults__', '__le__', '__lt__', '__module__', '__name__', '__ne__', '__new__', '__qualname__', '__reduce__', '__reduce_ex__', '__repr__', '__setattr__', '__sizeof__', '__str__', '__subclasshook__', '__type_params__']\n",
      "Hello\n",
      "<class '__main__.Person'>\n",
      "['__class__', '__delattr__', '__dict__', '__dir__', '__doc__', '__eq__', '__firstlineno__', '__format__', '__ge__', '__getattribute__', '__getstate__', '__gt__', '__hash__', '__init__', '__init_subclass__', '__le__', '__lt__', '__module__', '__ne__', '__new__', '__reduce__', '__reduce_ex__', '__repr__', '__setattr__', '__sizeof__', '__static_attributes__', '__str__', '__subclasshook__', '__weakref__']\n"
     ]
    }
   ],
   "source": [
    "a = 7\n",
    "print(type(a))\n",
    "print(dir(a))\n",
    "def greet():\n",
    "    print(\"Hello\")\n",
    "greet()\n",
    "print(type(greet))\n",
    "print(dir(greet))\n",
    "\n",
    "class Person:\n",
    "    def __init__(self):\n",
    "        print(\"Hello\")\n",
    "p1=Person()\n",
    "print(type(p1))\n",
    "print(dir(p1))"
   ]
  },
  {
   "cell_type": "markdown",
   "metadata": {},
   "source": [
    "## <span style=\"color:#229bbc\">**Summary**</span>\n",
    "- Comments\n",
    "- Tokens\n",
    "    - Identifiers\n",
    "    - Keywords\n",
    "    - Punctuations\n",
    "    - Delimiters\n",
    "    - Indentation\n",
    "    - Operators\n",
    "- Identifiers\n",
    "    - Naming Rules\n",
    "    - Namespace\n",
    "- Variable\n",
    "    - Namimg Rules\n",
    "- Data\n",
    "    - Data Types\n",
    "        - Numeric Type: \n",
    "            1. int\n",
    "            2. float\n",
    "            3. complex\n",
    "            - Representation of int,float,complex internally\n",
    "        - Sequence Type:\n",
    "            1. string\n",
    "            2. list\n",
    "            3. tuple\n",
    "        - Mapping Type:\n",
    "            1. dict\n",
    "        - Set Type:\n",
    "            1. set\n",
    "            2. frozenset\n",
    "        - Bool Type\n",
    "            1. True, False\n",
    "        - None Type\n",
    "        - Binary Type\n",
    "            - bytes\n",
    "            - bytearray\n",
    "            - mirrorview\n",
    "- Dynamic Typing\n",
    "    - Mechanism\n",
    "    - Namespace\n",
    "        - global\n",
    "        - local\n",
    "        - builtin\n",
    "    - Private Heap Space\n",
    "- Scoping Rules\n",
    "    - LEGB Scope Resolution\n",
    "- Python Object Oriented Desing\n",
    "\n",
    "- Builtin Functions:\n",
    "    - print()\n",
    "        - sep\n",
    "        - end\n",
    "        - string formatting\n",
    "            - format specifier:%d,%f\n",
    "            - f-strings\n",
    "            - .fromat\n",
    "    - type()\n",
    "    - id()\n",
    "    - dir()\n",
    "    - globals()\n",
    "    - locals()\n",
    "\n",
    "- Garbage Collection"
   ]
  },
  {
   "cell_type": "markdown",
   "metadata": {},
   "source": []
  }
 ],
 "metadata": {
  "kernelspec": {
   "display_name": "Python 3",
   "language": "python",
   "name": "python3"
  },
  "language_info": {
   "codemirror_mode": {
    "name": "ipython",
    "version": 3
   },
   "file_extension": ".py",
   "mimetype": "text/x-python",
   "name": "python",
   "nbconvert_exporter": "python",
   "pygments_lexer": "ipython3",
   "version": "3.13.2"
  }
 },
 "nbformat": 4,
 "nbformat_minor": 2
}
